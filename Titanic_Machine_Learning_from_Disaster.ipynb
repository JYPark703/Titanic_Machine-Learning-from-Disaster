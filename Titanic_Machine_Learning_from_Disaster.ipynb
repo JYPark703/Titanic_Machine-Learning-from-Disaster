{
  "nbformat": 4,
  "nbformat_minor": 0,
  "metadata": {
    "colab": {
      "name": "Titanic - Machine Learning from Disaster.ipynb",
      "provenance": [],
      "collapsed_sections": [],
      "toc_visible": true
    },
    "kernelspec": {
      "name": "python3",
      "display_name": "Python 3"
    },
    "language_info": {
      "name": "python"
    }
  },
  "cells": [
    {
      "cell_type": "markdown",
      "metadata": {
        "id": "cOXRjjgoWB4B"
      },
      "source": [
        "# Project Stage 1 : Titanic - Machine Learning from Disaster\n",
        "Name: Jin Young Park\n",
        "\n",
        "Kaggle Account: User Name - jpark703 / Display Name - Jin Young Park  [1 point]"
      ]
    },
    {
      "cell_type": "markdown",
      "metadata": {
        "id": "bn-GEapa5CTy"
      },
      "source": [
        "This project is to find the passengers of the Titanic who are most likely to survive. \n",
        "\n",
        "A detailed description according to Kaggle is as follows:\n",
        "\n",
        "> **The Challenge**\n",
        "\n",
        "> The sinking of the Titanic is one of the most infamous shipwrecks in history.\n",
        "\n",
        "\n",
        "> On April 15, 1912, during her maiden voyage, the widely considered “unsinkable” RMS Titanic sank after colliding with an iceberg. Unfortunately, there weren’t enough lifeboats for everyone onboard, resulting in the death of 1502 out of 2224 passengers and crew.\n",
        "\n",
        "\n",
        "\n",
        "> While there was some element of luck involved in surviving, it seems some groups of people were more likely to survive than others.\n",
        "\n",
        "\n",
        "> In this challenge, we ask you to build a predictive model that answers the question: “what sorts of people were more likely to survive?” using passenger data (ie name, age, gender, socio-economic class, etc).\n",
        "\n",
        "\n",
        "Reference:\n",
        "[Titanic - Machine Learning from Disaster | Kaggle](https://www.kaggle.com/c/titanic/overview)"
      ]
    },
    {
      "cell_type": "markdown",
      "metadata": {
        "id": "_2CJNHjO6eBa"
      },
      "source": [
        "-----------------------------------------"
      ]
    },
    {
      "cell_type": "markdown",
      "metadata": {
        "id": "1xQ0R5_5W8u3"
      },
      "source": [
        "## Part1. Problem Formulation/Introduction"
      ]
    },
    {
      "cell_type": "markdown",
      "metadata": {
        "id": "vRdBupGX0Gxc"
      },
      "source": [
        "### 1.1. Data Problem [3 points]"
      ]
    },
    {
      "cell_type": "markdown",
      "metadata": {
        "id": "JeSWIVBEybEY"
      },
      "source": [
        "You need to carefully read the description of your chosen Kaggle competition and formulate the data problem you are going to solve similar to what we have discussed in class. Points will be deducted if the problem is not correctly describing the corresponding Kaggle problem or the problem formulation is not clear to understand even judge the previous point. [3 points]"
      ]
    },
    {
      "cell_type": "markdown",
      "metadata": {
        "id": "5RGkRh8H15lV"
      },
      "source": [
        "In this project, the question is that “what sorts of people were more likely to survive?” In other words, the project's data problem is to find passengers most likely to survive the sinking of the Titanic on April 15, 1912, using passenger information on the Titanic.\n"
      ]
    },
    {
      "cell_type": "markdown",
      "metadata": {
        "id": "NNtDsfef1DWC"
      },
      "source": [
        "### 1.2. Population [2 points]"
      ]
    },
    {
      "cell_type": "markdown",
      "metadata": {
        "id": "g2lLeWdvye5o"
      },
      "source": [
        "According to the problem, what's the data population? [2 points]"
      ]
    },
    {
      "cell_type": "markdown",
      "metadata": {
        "id": "_-4GdRFiXLhf"
      },
      "source": [
        "Passengers aboard the Titanic on April 15, 1912"
      ]
    },
    {
      "cell_type": "markdown",
      "metadata": {
        "id": "whHP7zCC2QHG"
      },
      "source": [
        "## Part2. Data"
      ]
    },
    {
      "cell_type": "markdown",
      "metadata": {
        "id": "Hr1nsu2RN9La"
      },
      "source": [
        "### 2.1. Data Loading [5 points]"
      ]
    },
    {
      "cell_type": "markdown",
      "metadata": {
        "id": "ck0n0lTEyBQs"
      },
      "source": [
        "After you download the data, you need to load them to your notebook, show several lines of each separate file and describe what is that data for. [5 points]"
      ]
    },
    {
      "cell_type": "markdown",
      "metadata": {
        "id": "SGa57_Y5Yelg"
      },
      "source": [
        "#### 2.1.a. Getting the Data"
      ]
    },
    {
      "cell_type": "code",
      "metadata": {
        "colab": {
          "base_uri": "https://localhost:8080/"
        },
        "id": "waVZXCd_WRL2",
        "outputId": "5bc678a4-19b0-421f-9b84-fbb38bad3811"
      },
      "source": [
        "from google.colab import drive\n",
        "drive.mount('/content/drive')"
      ],
      "execution_count": null,
      "outputs": [
        {
          "output_type": "stream",
          "text": [
            "Drive already mounted at /content/drive; to attempt to forcibly remount, call drive.mount(\"/content/drive\", force_remount=True).\n"
          ],
          "name": "stdout"
        }
      ]
    },
    {
      "cell_type": "code",
      "metadata": {
        "colab": {
          "base_uri": "https://localhost:8080/"
        },
        "id": "cqgn1pGjYwSr",
        "outputId": "45e5fd0d-e369-41d4-8dc4-8440a47dc683"
      },
      "source": [
        "cd /content/drive/MyDrive/TCSS_551/Titanic_data/"
      ],
      "execution_count": null,
      "outputs": [
        {
          "output_type": "stream",
          "text": [
            "/content/drive/MyDrive/TCSS_551/Titanic_data\n"
          ],
          "name": "stdout"
        }
      ]
    },
    {
      "cell_type": "markdown",
      "metadata": {
        "id": "J9IUjWbJdi6b"
      },
      "source": [
        "#### 2.1.b. Importing the Data"
      ]
    },
    {
      "cell_type": "code",
      "metadata": {
        "id": "6pQa-YzGSNmK"
      },
      "source": [
        "import numpy as np\n",
        "import matplotlib.pyplot as plt\n",
        "import pandas as pd\n",
        "import seaborn as sns\n",
        "plt.style.use('fivethirtyeight')\n",
        "%matplotlib inline"
      ],
      "execution_count": null,
      "outputs": []
    },
    {
      "cell_type": "markdown",
      "metadata": {
        "id": "AoDSoUbiq1bC"
      },
      "source": [
        "**train.csv**\n"
      ]
    },
    {
      "cell_type": "code",
      "metadata": {
        "colab": {
          "base_uri": "https://localhost:8080/"
        },
        "id": "RKrxE2SAY2Hl",
        "outputId": "3f4cd683-4956-489e-d3fc-a673afcb3b4f"
      },
      "source": [
        "train_file='train.csv'\n",
        "print(train_file, \"======================\")\n",
        "with open(train_file, \"r\") as f:\n",
        "    for i in range(20):\n",
        "        print(i, \"\\t\", repr(f.readline()))"
      ],
      "execution_count": null,
      "outputs": [
        {
          "output_type": "stream",
          "text": [
            "train.csv ======================\n",
            "0 \t 'PassengerId,Survived,Pclass,Name,Sex,Age,SibSp,Parch,Ticket,Fare,Cabin,Embarked\\n'\n",
            "1 \t '1,0,3,\"Braund, Mr. Owen Harris\",male,22,1,0,A/5 21171,7.25,,S\\n'\n",
            "2 \t '2,1,1,\"Cumings, Mrs. John Bradley (Florence Briggs Thayer)\",female,38,1,0,PC 17599,71.2833,C85,C\\n'\n",
            "3 \t '3,1,3,\"Heikkinen, Miss. Laina\",female,26,0,0,STON/O2. 3101282,7.925,,S\\n'\n",
            "4 \t '4,1,1,\"Futrelle, Mrs. Jacques Heath (Lily May Peel)\",female,35,1,0,113803,53.1,C123,S\\n'\n",
            "5 \t '5,0,3,\"Allen, Mr. William Henry\",male,35,0,0,373450,8.05,,S\\n'\n",
            "6 \t '6,0,3,\"Moran, Mr. James\",male,,0,0,330877,8.4583,,Q\\n'\n",
            "7 \t '7,0,1,\"McCarthy, Mr. Timothy J\",male,54,0,0,17463,51.8625,E46,S\\n'\n",
            "8 \t '8,0,3,\"Palsson, Master. Gosta Leonard\",male,2,3,1,349909,21.075,,S\\n'\n",
            "9 \t '9,1,3,\"Johnson, Mrs. Oscar W (Elisabeth Vilhelmina Berg)\",female,27,0,2,347742,11.1333,,S\\n'\n",
            "10 \t '10,1,2,\"Nasser, Mrs. Nicholas (Adele Achem)\",female,14,1,0,237736,30.0708,,C\\n'\n",
            "11 \t '11,1,3,\"Sandstrom, Miss. Marguerite Rut\",female,4,1,1,PP 9549,16.7,G6,S\\n'\n",
            "12 \t '12,1,1,\"Bonnell, Miss. Elizabeth\",female,58,0,0,113783,26.55,C103,S\\n'\n",
            "13 \t '13,0,3,\"Saundercock, Mr. William Henry\",male,20,0,0,A/5. 2151,8.05,,S\\n'\n",
            "14 \t '14,0,3,\"Andersson, Mr. Anders Johan\",male,39,1,5,347082,31.275,,S\\n'\n",
            "15 \t '15,0,3,\"Vestrom, Miss. Hulda Amanda Adolfina\",female,14,0,0,350406,7.8542,,S\\n'\n",
            "16 \t '16,1,2,\"Hewlett, Mrs. (Mary D Kingcome) \",female,55,0,0,248706,16,,S\\n'\n",
            "17 \t '17,0,3,\"Rice, Master. Eugene\",male,2,4,1,382652,29.125,,Q\\n'\n",
            "18 \t '18,1,2,\"Williams, Mr. Charles Eugene\",male,,0,0,244373,13,,S\\n'\n",
            "19 \t '19,0,3,\"Vander Planke, Mrs. Julius (Emelia Maria Vandemoortele)\",female,31,1,0,345763,18,,S\\n'\n"
          ],
          "name": "stdout"
        }
      ]
    },
    {
      "cell_type": "markdown",
      "metadata": {
        "id": "87rtuIQ8r6WS"
      },
      "source": [
        "The 'train.csv' is a training set that contains the features of each passenger and the result of whether the passenger survived or died. Also, the result of whether the passengers survived or died is a predictable outcome for this project."
      ]
    },
    {
      "cell_type": "markdown",
      "metadata": {
        "id": "ELhINy4drNXd"
      },
      "source": [
        "**test.csv**"
      ]
    },
    {
      "cell_type": "code",
      "metadata": {
        "colab": {
          "base_uri": "https://localhost:8080/"
        },
        "id": "HdEy3s5brSWi",
        "outputId": "61e06119-4db8-4e73-cb6e-1fa9241e7389"
      },
      "source": [
        "test_file='test.csv'\n",
        "print(test_file, \"======================\")\n",
        "with open(test_file, \"r\") as f:\n",
        "    for i in range(20):\n",
        "        print(i, \"\\t\", repr(f.readline()))"
      ],
      "execution_count": null,
      "outputs": [
        {
          "output_type": "stream",
          "text": [
            "test.csv ======================\n",
            "0 \t 'PassengerId,Pclass,Name,Sex,Age,SibSp,Parch,Ticket,Fare,Cabin,Embarked\\n'\n",
            "1 \t '892,3,\"Kelly, Mr. James\",male,34.5,0,0,330911,7.8292,,Q\\n'\n",
            "2 \t '893,3,\"Wilkes, Mrs. James (Ellen Needs)\",female,47,1,0,363272,7,,S\\n'\n",
            "3 \t '894,2,\"Myles, Mr. Thomas Francis\",male,62,0,0,240276,9.6875,,Q\\n'\n",
            "4 \t '895,3,\"Wirz, Mr. Albert\",male,27,0,0,315154,8.6625,,S\\n'\n",
            "5 \t '896,3,\"Hirvonen, Mrs. Alexander (Helga E Lindqvist)\",female,22,1,1,3101298,12.2875,,S\\n'\n",
            "6 \t '897,3,\"Svensson, Mr. Johan Cervin\",male,14,0,0,7538,9.225,,S\\n'\n",
            "7 \t '898,3,\"Connolly, Miss. Kate\",female,30,0,0,330972,7.6292,,Q\\n'\n",
            "8 \t '899,2,\"Caldwell, Mr. Albert Francis\",male,26,1,1,248738,29,,S\\n'\n",
            "9 \t '900,3,\"Abrahim, Mrs. Joseph (Sophie Halaut Easu)\",female,18,0,0,2657,7.2292,,C\\n'\n",
            "10 \t '901,3,\"Davies, Mr. John Samuel\",male,21,2,0,A/4 48871,24.15,,S\\n'\n",
            "11 \t '902,3,\"Ilieff, Mr. Ylio\",male,,0,0,349220,7.8958,,S\\n'\n",
            "12 \t '903,1,\"Jones, Mr. Charles Cresson\",male,46,0,0,694,26,,S\\n'\n",
            "13 \t '904,1,\"Snyder, Mrs. John Pillsbury (Nelle Stevenson)\",female,23,1,0,21228,82.2667,B45,S\\n'\n",
            "14 \t '905,2,\"Howard, Mr. Benjamin\",male,63,1,0,24065,26,,S\\n'\n",
            "15 \t '906,1,\"Chaffee, Mrs. Herbert Fuller (Carrie Constance Toogood)\",female,47,1,0,W.E.P. 5734,61.175,E31,S\\n'\n",
            "16 \t '907,2,\"del Carlo, Mrs. Sebastiano (Argenia Genovesi)\",female,24,1,0,SC/PARIS 2167,27.7208,,C\\n'\n",
            "17 \t '908,2,\"Keane, Mr. Daniel\",male,35,0,0,233734,12.35,,Q\\n'\n",
            "18 \t '909,3,\"Assaf, Mr. Gerios\",male,21,0,0,2692,7.225,,C\\n'\n",
            "19 \t '910,3,\"Ilmakangas, Miss. Ida Livija\",female,27,1,0,STON/O2. 3101270,7.925,,S\\n'\n"
          ],
          "name": "stdout"
        }
      ]
    },
    {
      "cell_type": "markdown",
      "metadata": {
        "id": "-BI5XygPtspi"
      },
      "source": [
        "The 'test.csv' has no data on whether passengers survived compared to the 'train.csv'. Therefore, this is a test set, and after training with the above train set, we need to predict whether the passengers of this test set survived or died."
      ]
    },
    {
      "cell_type": "markdown",
      "metadata": {
        "id": "OAeoov4Drk2P"
      },
      "source": [
        "**gender_submission.csv**"
      ]
    },
    {
      "cell_type": "code",
      "metadata": {
        "colab": {
          "base_uri": "https://localhost:8080/"
        },
        "id": "bXPASsnSruld",
        "outputId": "81787703-64ee-4f2c-a76c-3ff4625519f5"
      },
      "source": [
        "gender_submission_file='gender_submission.csv'\n",
        "print(gender_submission_file, \"======================\")\n",
        "with open(gender_submission_file, \"r\") as f:\n",
        "    for i in range(20):\n",
        "        print(i, \"\\t\", repr(f.readline()))"
      ],
      "execution_count": null,
      "outputs": [
        {
          "output_type": "stream",
          "text": [
            "gender_submission.csv ======================\n",
            "0 \t 'PassengerId,Survived\\n'\n",
            "1 \t '892,0\\n'\n",
            "2 \t '893,1\\n'\n",
            "3 \t '894,0\\n'\n",
            "4 \t '895,0\\n'\n",
            "5 \t '896,1\\n'\n",
            "6 \t '897,0\\n'\n",
            "7 \t '898,1\\n'\n",
            "8 \t '899,0\\n'\n",
            "9 \t '900,1\\n'\n",
            "10 \t '901,0\\n'\n",
            "11 \t '902,0\\n'\n",
            "12 \t '903,0\\n'\n",
            "13 \t '904,1\\n'\n",
            "14 \t '905,0\\n'\n",
            "15 \t '906,1\\n'\n",
            "16 \t '907,1\\n'\n",
            "17 \t '908,0\\n'\n",
            "18 \t '909,0\\n'\n",
            "19 \t '910,1\\n'\n"
          ],
          "name": "stdout"
        }
      ]
    },
    {
      "cell_type": "markdown",
      "metadata": {
        "id": "PTBLBvN4u37p"
      },
      "source": [
        "The 'gender_submission.csv' contains the life or death of passengers in the 'test.csv' above. However, according to Kaggle, this is **not reliable data** because it is the result of the assumption that all female passengers survive."
      ]
    },
    {
      "cell_type": "markdown",
      "metadata": {
        "id": "Dba27CZlwstB"
      },
      "source": [
        "#### 2.1.c. Buiding the Dataframe from the CSV data"
      ]
    },
    {
      "cell_type": "code",
      "metadata": {
        "colab": {
          "base_uri": "https://localhost:8080/",
          "height": 227
        },
        "id": "kjIwfmYmckNb",
        "outputId": "79b5ae69-638d-47ac-db10-e5672b763d5f"
      },
      "source": [
        "train = pd.read_csv('train.csv', sep=',')\n",
        "\n",
        "# need to remove the leading or trailing whitespace\n",
        "train['Name'] = train['Name'].str.strip()\n",
        "train['Sex'] = train['Sex'].str.strip()\n",
        "train['Ticket'] = train['Ticket'].str.strip()\n",
        "train['Cabin'] = train['Cabin'].str.strip()\n",
        "train['Embarked'] = train['Embarked'].str.strip()\n",
        "\n",
        "train.head(6)   "
      ],
      "execution_count": null,
      "outputs": [
        {
          "output_type": "execute_result",
          "data": {
            "text/html": [
              "<div>\n",
              "<style scoped>\n",
              "    .dataframe tbody tr th:only-of-type {\n",
              "        vertical-align: middle;\n",
              "    }\n",
              "\n",
              "    .dataframe tbody tr th {\n",
              "        vertical-align: top;\n",
              "    }\n",
              "\n",
              "    .dataframe thead th {\n",
              "        text-align: right;\n",
              "    }\n",
              "</style>\n",
              "<table border=\"1\" class=\"dataframe\">\n",
              "  <thead>\n",
              "    <tr style=\"text-align: right;\">\n",
              "      <th></th>\n",
              "      <th>PassengerId</th>\n",
              "      <th>Survived</th>\n",
              "      <th>Pclass</th>\n",
              "      <th>Name</th>\n",
              "      <th>Sex</th>\n",
              "      <th>Age</th>\n",
              "      <th>SibSp</th>\n",
              "      <th>Parch</th>\n",
              "      <th>Ticket</th>\n",
              "      <th>Fare</th>\n",
              "      <th>Cabin</th>\n",
              "      <th>Embarked</th>\n",
              "    </tr>\n",
              "  </thead>\n",
              "  <tbody>\n",
              "    <tr>\n",
              "      <th>0</th>\n",
              "      <td>1</td>\n",
              "      <td>0</td>\n",
              "      <td>3</td>\n",
              "      <td>Braund, Mr. Owen Harris</td>\n",
              "      <td>male</td>\n",
              "      <td>22.0</td>\n",
              "      <td>1</td>\n",
              "      <td>0</td>\n",
              "      <td>A/5 21171</td>\n",
              "      <td>7.2500</td>\n",
              "      <td>NaN</td>\n",
              "      <td>S</td>\n",
              "    </tr>\n",
              "    <tr>\n",
              "      <th>1</th>\n",
              "      <td>2</td>\n",
              "      <td>1</td>\n",
              "      <td>1</td>\n",
              "      <td>Cumings, Mrs. John Bradley (Florence Briggs Th...</td>\n",
              "      <td>female</td>\n",
              "      <td>38.0</td>\n",
              "      <td>1</td>\n",
              "      <td>0</td>\n",
              "      <td>PC 17599</td>\n",
              "      <td>71.2833</td>\n",
              "      <td>C85</td>\n",
              "      <td>C</td>\n",
              "    </tr>\n",
              "    <tr>\n",
              "      <th>2</th>\n",
              "      <td>3</td>\n",
              "      <td>1</td>\n",
              "      <td>3</td>\n",
              "      <td>Heikkinen, Miss. Laina</td>\n",
              "      <td>female</td>\n",
              "      <td>26.0</td>\n",
              "      <td>0</td>\n",
              "      <td>0</td>\n",
              "      <td>STON/O2. 3101282</td>\n",
              "      <td>7.9250</td>\n",
              "      <td>NaN</td>\n",
              "      <td>S</td>\n",
              "    </tr>\n",
              "    <tr>\n",
              "      <th>3</th>\n",
              "      <td>4</td>\n",
              "      <td>1</td>\n",
              "      <td>1</td>\n",
              "      <td>Futrelle, Mrs. Jacques Heath (Lily May Peel)</td>\n",
              "      <td>female</td>\n",
              "      <td>35.0</td>\n",
              "      <td>1</td>\n",
              "      <td>0</td>\n",
              "      <td>113803</td>\n",
              "      <td>53.1000</td>\n",
              "      <td>C123</td>\n",
              "      <td>S</td>\n",
              "    </tr>\n",
              "    <tr>\n",
              "      <th>4</th>\n",
              "      <td>5</td>\n",
              "      <td>0</td>\n",
              "      <td>3</td>\n",
              "      <td>Allen, Mr. William Henry</td>\n",
              "      <td>male</td>\n",
              "      <td>35.0</td>\n",
              "      <td>0</td>\n",
              "      <td>0</td>\n",
              "      <td>373450</td>\n",
              "      <td>8.0500</td>\n",
              "      <td>NaN</td>\n",
              "      <td>S</td>\n",
              "    </tr>\n",
              "    <tr>\n",
              "      <th>5</th>\n",
              "      <td>6</td>\n",
              "      <td>0</td>\n",
              "      <td>3</td>\n",
              "      <td>Moran, Mr. James</td>\n",
              "      <td>male</td>\n",
              "      <td>NaN</td>\n",
              "      <td>0</td>\n",
              "      <td>0</td>\n",
              "      <td>330877</td>\n",
              "      <td>8.4583</td>\n",
              "      <td>NaN</td>\n",
              "      <td>Q</td>\n",
              "    </tr>\n",
              "  </tbody>\n",
              "</table>\n",
              "</div>"
            ],
            "text/plain": [
              "   PassengerId  Survived  Pclass  ...     Fare Cabin  Embarked\n",
              "0            1         0       3  ...   7.2500   NaN         S\n",
              "1            2         1       1  ...  71.2833   C85         C\n",
              "2            3         1       3  ...   7.9250   NaN         S\n",
              "3            4         1       1  ...  53.1000  C123         S\n",
              "4            5         0       3  ...   8.0500   NaN         S\n",
              "5            6         0       3  ...   8.4583   NaN         Q\n",
              "\n",
              "[6 rows x 12 columns]"
            ]
          },
          "metadata": {
            "tags": []
          },
          "execution_count": 731
        }
      ]
    },
    {
      "cell_type": "code",
      "metadata": {
        "colab": {
          "base_uri": "https://localhost:8080/",
          "height": 227
        },
        "id": "UeMWqgLBu_3d",
        "outputId": "3261080c-3798-4870-d957-9c5dba39a2cf"
      },
      "source": [
        "test = pd.read_csv('test.csv', sep=',')\n",
        "\n",
        "# need to remove the leading or trailing whitespace\n",
        "test['Name'] = test['Name'].str.strip()\n",
        "test['Sex'] = test['Sex'].str.strip()\n",
        "test['Ticket'] = test['Ticket'].str.strip()\n",
        "test['Cabin'] = test['Cabin'].str.strip()\n",
        "test['Embarked'] = test['Embarked'].str.strip()\n",
        "\n",
        "test.head(6)   "
      ],
      "execution_count": null,
      "outputs": [
        {
          "output_type": "execute_result",
          "data": {
            "text/html": [
              "<div>\n",
              "<style scoped>\n",
              "    .dataframe tbody tr th:only-of-type {\n",
              "        vertical-align: middle;\n",
              "    }\n",
              "\n",
              "    .dataframe tbody tr th {\n",
              "        vertical-align: top;\n",
              "    }\n",
              "\n",
              "    .dataframe thead th {\n",
              "        text-align: right;\n",
              "    }\n",
              "</style>\n",
              "<table border=\"1\" class=\"dataframe\">\n",
              "  <thead>\n",
              "    <tr style=\"text-align: right;\">\n",
              "      <th></th>\n",
              "      <th>PassengerId</th>\n",
              "      <th>Pclass</th>\n",
              "      <th>Name</th>\n",
              "      <th>Sex</th>\n",
              "      <th>Age</th>\n",
              "      <th>SibSp</th>\n",
              "      <th>Parch</th>\n",
              "      <th>Ticket</th>\n",
              "      <th>Fare</th>\n",
              "      <th>Cabin</th>\n",
              "      <th>Embarked</th>\n",
              "    </tr>\n",
              "  </thead>\n",
              "  <tbody>\n",
              "    <tr>\n",
              "      <th>0</th>\n",
              "      <td>892</td>\n",
              "      <td>3</td>\n",
              "      <td>Kelly, Mr. James</td>\n",
              "      <td>male</td>\n",
              "      <td>34.5</td>\n",
              "      <td>0</td>\n",
              "      <td>0</td>\n",
              "      <td>330911</td>\n",
              "      <td>7.8292</td>\n",
              "      <td>NaN</td>\n",
              "      <td>Q</td>\n",
              "    </tr>\n",
              "    <tr>\n",
              "      <th>1</th>\n",
              "      <td>893</td>\n",
              "      <td>3</td>\n",
              "      <td>Wilkes, Mrs. James (Ellen Needs)</td>\n",
              "      <td>female</td>\n",
              "      <td>47.0</td>\n",
              "      <td>1</td>\n",
              "      <td>0</td>\n",
              "      <td>363272</td>\n",
              "      <td>7.0000</td>\n",
              "      <td>NaN</td>\n",
              "      <td>S</td>\n",
              "    </tr>\n",
              "    <tr>\n",
              "      <th>2</th>\n",
              "      <td>894</td>\n",
              "      <td>2</td>\n",
              "      <td>Myles, Mr. Thomas Francis</td>\n",
              "      <td>male</td>\n",
              "      <td>62.0</td>\n",
              "      <td>0</td>\n",
              "      <td>0</td>\n",
              "      <td>240276</td>\n",
              "      <td>9.6875</td>\n",
              "      <td>NaN</td>\n",
              "      <td>Q</td>\n",
              "    </tr>\n",
              "    <tr>\n",
              "      <th>3</th>\n",
              "      <td>895</td>\n",
              "      <td>3</td>\n",
              "      <td>Wirz, Mr. Albert</td>\n",
              "      <td>male</td>\n",
              "      <td>27.0</td>\n",
              "      <td>0</td>\n",
              "      <td>0</td>\n",
              "      <td>315154</td>\n",
              "      <td>8.6625</td>\n",
              "      <td>NaN</td>\n",
              "      <td>S</td>\n",
              "    </tr>\n",
              "    <tr>\n",
              "      <th>4</th>\n",
              "      <td>896</td>\n",
              "      <td>3</td>\n",
              "      <td>Hirvonen, Mrs. Alexander (Helga E Lindqvist)</td>\n",
              "      <td>female</td>\n",
              "      <td>22.0</td>\n",
              "      <td>1</td>\n",
              "      <td>1</td>\n",
              "      <td>3101298</td>\n",
              "      <td>12.2875</td>\n",
              "      <td>NaN</td>\n",
              "      <td>S</td>\n",
              "    </tr>\n",
              "    <tr>\n",
              "      <th>5</th>\n",
              "      <td>897</td>\n",
              "      <td>3</td>\n",
              "      <td>Svensson, Mr. Johan Cervin</td>\n",
              "      <td>male</td>\n",
              "      <td>14.0</td>\n",
              "      <td>0</td>\n",
              "      <td>0</td>\n",
              "      <td>7538</td>\n",
              "      <td>9.2250</td>\n",
              "      <td>NaN</td>\n",
              "      <td>S</td>\n",
              "    </tr>\n",
              "  </tbody>\n",
              "</table>\n",
              "</div>"
            ],
            "text/plain": [
              "   PassengerId  Pclass  ... Cabin Embarked\n",
              "0          892       3  ...   NaN        Q\n",
              "1          893       3  ...   NaN        S\n",
              "2          894       2  ...   NaN        Q\n",
              "3          895       3  ...   NaN        S\n",
              "4          896       3  ...   NaN        S\n",
              "5          897       3  ...   NaN        S\n",
              "\n",
              "[6 rows x 11 columns]"
            ]
          },
          "metadata": {
            "tags": []
          },
          "execution_count": 732
        }
      ]
    },
    {
      "cell_type": "markdown",
      "metadata": {
        "id": "KmNr-vt5NLuy"
      },
      "source": [
        "### 2.2. Data Wrangling [25 points, 5 for each property]"
      ]
    },
    {
      "cell_type": "markdown",
      "metadata": {
        "id": "p9q-pk9Yx3Gf"
      },
      "source": [
        "Data Wrangling: this is an open component and you need to transform the data into a data frame or data frames for analysis or visualization. However, you need to include the discussion for each data properties (i.e., structure, granularity, scope, temporality, and faithfulness), using the data as evidences. If one property cannot be identified using the data, you also need to show and tell that this is not available. [25 points, 5 for each property]"
      ]
    },
    {
      "cell_type": "markdown",
      "metadata": {
        "id": "KcwUYbsVNTe9"
      },
      "source": [
        "#### 2.2.a. Structure"
      ]
    },
    {
      "cell_type": "markdown",
      "metadata": {
        "id": "0lyTpHVwjEFP"
      },
      "source": [
        "**Retangular data**\n",
        "\n",
        "Yes, this is rectangular data with 891 rows and 12 columns. "
      ]
    },
    {
      "cell_type": "code",
      "metadata": {
        "colab": {
          "base_uri": "https://localhost:8080/"
        },
        "id": "H3LLc1sucMyd",
        "outputId": "bfd9d683-180e-496f-ba47-a2c48676b00c"
      },
      "source": [
        "train.shape"
      ],
      "execution_count": null,
      "outputs": [
        {
          "output_type": "execute_result",
          "data": {
            "text/plain": [
              "(891, 12)"
            ]
          },
          "metadata": {
            "tags": []
          },
          "execution_count": 733
        }
      ]
    },
    {
      "cell_type": "markdown",
      "metadata": {
        "id": "5VgkQKMUruZL"
      },
      "source": [
        "**Record Delimeter**\n",
        "\n",
        "This record is divided into rows by '\\n' and columns by ', (comma)'."
      ]
    },
    {
      "cell_type": "code",
      "metadata": {
        "colab": {
          "base_uri": "https://localhost:8080/"
        },
        "id": "p67rtq_fsOSt",
        "outputId": "98823729-eaa3-4ca5-ec0a-30cc3e5a9bd9"
      },
      "source": [
        "print(train_file, \"======================\")\n",
        "with open(train_file, \"r\") as f:\n",
        "    for i in range(20):\n",
        "        print(i, \"\\t\", repr(f.readline()))"
      ],
      "execution_count": null,
      "outputs": [
        {
          "output_type": "stream",
          "text": [
            "train.csv ======================\n",
            "0 \t 'PassengerId,Survived,Pclass,Name,Sex,Age,SibSp,Parch,Ticket,Fare,Cabin,Embarked\\n'\n",
            "1 \t '1,0,3,\"Braund, Mr. Owen Harris\",male,22,1,0,A/5 21171,7.25,,S\\n'\n",
            "2 \t '2,1,1,\"Cumings, Mrs. John Bradley (Florence Briggs Thayer)\",female,38,1,0,PC 17599,71.2833,C85,C\\n'\n",
            "3 \t '3,1,3,\"Heikkinen, Miss. Laina\",female,26,0,0,STON/O2. 3101282,7.925,,S\\n'\n",
            "4 \t '4,1,1,\"Futrelle, Mrs. Jacques Heath (Lily May Peel)\",female,35,1,0,113803,53.1,C123,S\\n'\n",
            "5 \t '5,0,3,\"Allen, Mr. William Henry\",male,35,0,0,373450,8.05,,S\\n'\n",
            "6 \t '6,0,3,\"Moran, Mr. James\",male,,0,0,330877,8.4583,,Q\\n'\n",
            "7 \t '7,0,1,\"McCarthy, Mr. Timothy J\",male,54,0,0,17463,51.8625,E46,S\\n'\n",
            "8 \t '8,0,3,\"Palsson, Master. Gosta Leonard\",male,2,3,1,349909,21.075,,S\\n'\n",
            "9 \t '9,1,3,\"Johnson, Mrs. Oscar W (Elisabeth Vilhelmina Berg)\",female,27,0,2,347742,11.1333,,S\\n'\n",
            "10 \t '10,1,2,\"Nasser, Mrs. Nicholas (Adele Achem)\",female,14,1,0,237736,30.0708,,C\\n'\n",
            "11 \t '11,1,3,\"Sandstrom, Miss. Marguerite Rut\",female,4,1,1,PP 9549,16.7,G6,S\\n'\n",
            "12 \t '12,1,1,\"Bonnell, Miss. Elizabeth\",female,58,0,0,113783,26.55,C103,S\\n'\n",
            "13 \t '13,0,3,\"Saundercock, Mr. William Henry\",male,20,0,0,A/5. 2151,8.05,,S\\n'\n",
            "14 \t '14,0,3,\"Andersson, Mr. Anders Johan\",male,39,1,5,347082,31.275,,S\\n'\n",
            "15 \t '15,0,3,\"Vestrom, Miss. Hulda Amanda Adolfina\",female,14,0,0,350406,7.8542,,S\\n'\n",
            "16 \t '16,1,2,\"Hewlett, Mrs. (Mary D Kingcome) \",female,55,0,0,248706,16,,S\\n'\n",
            "17 \t '17,0,3,\"Rice, Master. Eugene\",male,2,4,1,382652,29.125,,Q\\n'\n",
            "18 \t '18,1,2,\"Williams, Mr. Charles Eugene\",male,,0,0,244373,13,,S\\n'\n",
            "19 \t '19,0,3,\"Vander Planke, Mrs. Julius (Emelia Maria Vandemoortele)\",female,31,1,0,345763,18,,S\\n'\n"
          ],
          "name": "stdout"
        }
      ]
    },
    {
      "cell_type": "markdown",
      "metadata": {
        "id": "8MVKta30v2rd"
      },
      "source": [
        "**Data Type**\n",
        "\n",
        "The data type is as follows."
      ]
    },
    {
      "cell_type": "code",
      "metadata": {
        "colab": {
          "base_uri": "https://localhost:8080/"
        },
        "id": "2Cxkj5AJcc12",
        "outputId": "37d1b320-3a7c-49e0-e7da-a87738c0059b"
      },
      "source": [
        "train.dtypes "
      ],
      "execution_count": null,
      "outputs": [
        {
          "output_type": "execute_result",
          "data": {
            "text/plain": [
              "PassengerId      int64\n",
              "Survived         int64\n",
              "Pclass           int64\n",
              "Name            object\n",
              "Sex             object\n",
              "Age            float64\n",
              "SibSp            int64\n",
              "Parch            int64\n",
              "Ticket          object\n",
              "Fare           float64\n",
              "Cabin           object\n",
              "Embarked        object\n",
              "dtype: object"
            ]
          },
          "metadata": {
            "tags": []
          },
          "execution_count": 735
        }
      ]
    },
    {
      "cell_type": "markdown",
      "metadata": {
        "id": "r6EZZDXshvQz"
      },
      "source": [
        "**Kind of ractangular data**\n",
        "\n",
        "This rectangular data named colums with different type. There is not only numeric data. In the case of Name, Sex, Ticket, Cabin, and Embarked, the data type is Object. So this data is **Table**."
      ]
    },
    {
      "cell_type": "markdown",
      "metadata": {
        "id": "tj39UexKNY4O"
      },
      "source": [
        "#### 2.2.b. Granularity"
      ]
    },
    {
      "cell_type": "markdown",
      "metadata": {
        "id": "dpfVMPIntyz9"
      },
      "source": [
        "**Primitive Key**\n",
        "\n",
        "PassengerId is the Key"
      ]
    },
    {
      "cell_type": "code",
      "metadata": {
        "colab": {
          "base_uri": "https://localhost:8080/",
          "height": 197
        },
        "id": "kkoV64vttwGU",
        "outputId": "5c47d21c-bf4e-43c1-bf63-a4250b06f12a"
      },
      "source": [
        "train.head()"
      ],
      "execution_count": null,
      "outputs": [
        {
          "output_type": "execute_result",
          "data": {
            "text/html": [
              "<div>\n",
              "<style scoped>\n",
              "    .dataframe tbody tr th:only-of-type {\n",
              "        vertical-align: middle;\n",
              "    }\n",
              "\n",
              "    .dataframe tbody tr th {\n",
              "        vertical-align: top;\n",
              "    }\n",
              "\n",
              "    .dataframe thead th {\n",
              "        text-align: right;\n",
              "    }\n",
              "</style>\n",
              "<table border=\"1\" class=\"dataframe\">\n",
              "  <thead>\n",
              "    <tr style=\"text-align: right;\">\n",
              "      <th></th>\n",
              "      <th>PassengerId</th>\n",
              "      <th>Survived</th>\n",
              "      <th>Pclass</th>\n",
              "      <th>Name</th>\n",
              "      <th>Sex</th>\n",
              "      <th>Age</th>\n",
              "      <th>SibSp</th>\n",
              "      <th>Parch</th>\n",
              "      <th>Ticket</th>\n",
              "      <th>Fare</th>\n",
              "      <th>Cabin</th>\n",
              "      <th>Embarked</th>\n",
              "    </tr>\n",
              "  </thead>\n",
              "  <tbody>\n",
              "    <tr>\n",
              "      <th>0</th>\n",
              "      <td>1</td>\n",
              "      <td>0</td>\n",
              "      <td>3</td>\n",
              "      <td>Braund, Mr. Owen Harris</td>\n",
              "      <td>male</td>\n",
              "      <td>22.0</td>\n",
              "      <td>1</td>\n",
              "      <td>0</td>\n",
              "      <td>A/5 21171</td>\n",
              "      <td>7.2500</td>\n",
              "      <td>NaN</td>\n",
              "      <td>S</td>\n",
              "    </tr>\n",
              "    <tr>\n",
              "      <th>1</th>\n",
              "      <td>2</td>\n",
              "      <td>1</td>\n",
              "      <td>1</td>\n",
              "      <td>Cumings, Mrs. John Bradley (Florence Briggs Th...</td>\n",
              "      <td>female</td>\n",
              "      <td>38.0</td>\n",
              "      <td>1</td>\n",
              "      <td>0</td>\n",
              "      <td>PC 17599</td>\n",
              "      <td>71.2833</td>\n",
              "      <td>C85</td>\n",
              "      <td>C</td>\n",
              "    </tr>\n",
              "    <tr>\n",
              "      <th>2</th>\n",
              "      <td>3</td>\n",
              "      <td>1</td>\n",
              "      <td>3</td>\n",
              "      <td>Heikkinen, Miss. Laina</td>\n",
              "      <td>female</td>\n",
              "      <td>26.0</td>\n",
              "      <td>0</td>\n",
              "      <td>0</td>\n",
              "      <td>STON/O2. 3101282</td>\n",
              "      <td>7.9250</td>\n",
              "      <td>NaN</td>\n",
              "      <td>S</td>\n",
              "    </tr>\n",
              "    <tr>\n",
              "      <th>3</th>\n",
              "      <td>4</td>\n",
              "      <td>1</td>\n",
              "      <td>1</td>\n",
              "      <td>Futrelle, Mrs. Jacques Heath (Lily May Peel)</td>\n",
              "      <td>female</td>\n",
              "      <td>35.0</td>\n",
              "      <td>1</td>\n",
              "      <td>0</td>\n",
              "      <td>113803</td>\n",
              "      <td>53.1000</td>\n",
              "      <td>C123</td>\n",
              "      <td>S</td>\n",
              "    </tr>\n",
              "    <tr>\n",
              "      <th>4</th>\n",
              "      <td>5</td>\n",
              "      <td>0</td>\n",
              "      <td>3</td>\n",
              "      <td>Allen, Mr. William Henry</td>\n",
              "      <td>male</td>\n",
              "      <td>35.0</td>\n",
              "      <td>0</td>\n",
              "      <td>0</td>\n",
              "      <td>373450</td>\n",
              "      <td>8.0500</td>\n",
              "      <td>NaN</td>\n",
              "      <td>S</td>\n",
              "    </tr>\n",
              "  </tbody>\n",
              "</table>\n",
              "</div>"
            ],
            "text/plain": [
              "   PassengerId  Survived  Pclass  ...     Fare Cabin  Embarked\n",
              "0            1         0       3  ...   7.2500   NaN         S\n",
              "1            2         1       1  ...  71.2833   C85         C\n",
              "2            3         1       3  ...   7.9250   NaN         S\n",
              "3            4         1       1  ...  53.1000  C123         S\n",
              "4            5         0       3  ...   8.0500   NaN         S\n",
              "\n",
              "[5 rows x 12 columns]"
            ]
          },
          "metadata": {
            "tags": []
          },
          "execution_count": 736
        }
      ]
    },
    {
      "cell_type": "markdown",
      "metadata": {
        "id": "JtqYJ7KANizg"
      },
      "source": [
        "#### 2.2.c. Scope"
      ]
    },
    {
      "cell_type": "markdown",
      "metadata": {
        "id": "0CJm964hwuDI"
      },
      "source": [
        "The scope of the data is the passengers of the Titanic."
      ]
    },
    {
      "cell_type": "markdown",
      "metadata": {
        "id": "gRoYz_zkNoFY"
      },
      "source": [
        "#### 2.2.d. Temporality"
      ]
    },
    {
      "cell_type": "markdown",
      "metadata": {
        "id": "jZ08Ithpw2AL"
      },
      "source": [
        "April 15, 1912, the date Titanic sank"
      ]
    },
    {
      "cell_type": "markdown",
      "metadata": {
        "id": "aM5Pxz1wNtjP"
      },
      "source": [
        "#### 2.2.f. Faithfulness"
      ]
    },
    {
      "cell_type": "markdown",
      "metadata": {
        "id": "JCbE0SpzyGgU"
      },
      "source": [
        "**Missing Data**\n",
        "\n",
        "There are **missing data** in Age, Cabin, and Embarked."
      ]
    },
    {
      "cell_type": "code",
      "metadata": {
        "colab": {
          "base_uri": "https://localhost:8080/"
        },
        "id": "ziLa4u7wcx2Y",
        "outputId": "662e12a4-4496-4875-ddb5-f921488ebbb7"
      },
      "source": [
        "train.info()"
      ],
      "execution_count": null,
      "outputs": [
        {
          "output_type": "stream",
          "text": [
            "<class 'pandas.core.frame.DataFrame'>\n",
            "RangeIndex: 891 entries, 0 to 890\n",
            "Data columns (total 12 columns):\n",
            " #   Column       Non-Null Count  Dtype  \n",
            "---  ------       --------------  -----  \n",
            " 0   PassengerId  891 non-null    int64  \n",
            " 1   Survived     891 non-null    int64  \n",
            " 2   Pclass       891 non-null    int64  \n",
            " 3   Name         891 non-null    object \n",
            " 4   Sex          891 non-null    object \n",
            " 5   Age          714 non-null    float64\n",
            " 6   SibSp        891 non-null    int64  \n",
            " 7   Parch        891 non-null    int64  \n",
            " 8   Ticket       891 non-null    object \n",
            " 9   Fare         891 non-null    float64\n",
            " 10  Cabin        204 non-null    object \n",
            " 11  Embarked     889 non-null    object \n",
            "dtypes: float64(2), int64(5), object(5)\n",
            "memory usage: 83.7+ KB\n"
          ],
          "name": "stdout"
        }
      ]
    },
    {
      "cell_type": "markdown",
      "metadata": {
        "id": "W-LkEAUpySjA"
      },
      "source": [
        "Looking at the above, the total number of rows is 891, but the number of non-null data for Age, Cabin, and Embarked is 714, 204, and 889, respectively. Therefore, Age, Cabin, and Embarked are missing data."
      ]
    },
    {
      "cell_type": "markdown",
      "metadata": {
        "id": "SbqeZ60vzG_1"
      },
      "source": [
        "**Data type**\n",
        "\n",
        "Also, the **data type** of Age is float. However, since age is always a natural number, the data type must be int, not float."
      ]
    },
    {
      "cell_type": "code",
      "metadata": {
        "colab": {
          "base_uri": "https://localhost:8080/"
        },
        "id": "pReZ7rDxzoIu",
        "outputId": "fbd18cae-f027-4bfd-deaa-208d68a7ac14"
      },
      "source": [
        "train.Age.dtype"
      ],
      "execution_count": null,
      "outputs": [
        {
          "output_type": "execute_result",
          "data": {
            "text/plain": [
              "dtype('float64')"
            ]
          },
          "metadata": {
            "tags": []
          },
          "execution_count": 738
        }
      ]
    },
    {
      "cell_type": "code",
      "metadata": {
        "colab": {
          "base_uri": "https://localhost:8080/",
          "height": 77
        },
        "id": "3t2xyTXL0QeH",
        "outputId": "12174fca-e32a-49c5-9f33-2386ad148b9d"
      },
      "source": [
        "train.loc[[57],:]"
      ],
      "execution_count": null,
      "outputs": [
        {
          "output_type": "execute_result",
          "data": {
            "text/html": [
              "<div>\n",
              "<style scoped>\n",
              "    .dataframe tbody tr th:only-of-type {\n",
              "        vertical-align: middle;\n",
              "    }\n",
              "\n",
              "    .dataframe tbody tr th {\n",
              "        vertical-align: top;\n",
              "    }\n",
              "\n",
              "    .dataframe thead th {\n",
              "        text-align: right;\n",
              "    }\n",
              "</style>\n",
              "<table border=\"1\" class=\"dataframe\">\n",
              "  <thead>\n",
              "    <tr style=\"text-align: right;\">\n",
              "      <th></th>\n",
              "      <th>PassengerId</th>\n",
              "      <th>Survived</th>\n",
              "      <th>Pclass</th>\n",
              "      <th>Name</th>\n",
              "      <th>Sex</th>\n",
              "      <th>Age</th>\n",
              "      <th>SibSp</th>\n",
              "      <th>Parch</th>\n",
              "      <th>Ticket</th>\n",
              "      <th>Fare</th>\n",
              "      <th>Cabin</th>\n",
              "      <th>Embarked</th>\n",
              "    </tr>\n",
              "  </thead>\n",
              "  <tbody>\n",
              "    <tr>\n",
              "      <th>57</th>\n",
              "      <td>58</td>\n",
              "      <td>0</td>\n",
              "      <td>3</td>\n",
              "      <td>Novel, Mr. Mansouer</td>\n",
              "      <td>male</td>\n",
              "      <td>28.5</td>\n",
              "      <td>0</td>\n",
              "      <td>0</td>\n",
              "      <td>2697</td>\n",
              "      <td>7.2292</td>\n",
              "      <td>NaN</td>\n",
              "      <td>C</td>\n",
              "    </tr>\n",
              "  </tbody>\n",
              "</table>\n",
              "</div>"
            ],
            "text/plain": [
              "    PassengerId  Survived  Pclass  ...    Fare Cabin  Embarked\n",
              "57           58         0       3  ...  7.2292   NaN         C\n",
              "\n",
              "[1 rows x 12 columns]"
            ]
          },
          "metadata": {
            "tags": []
          },
          "execution_count": 739
        }
      ]
    },
    {
      "cell_type": "markdown",
      "metadata": {
        "id": "21oBzqgF1C12"
      },
      "source": [
        "This passenger with a Passenger ID of 58 is said to be 28.5 years old."
      ]
    },
    {
      "cell_type": "markdown",
      "metadata": {
        "id": "HkSxnvS0xF0z"
      },
      "source": [
        "**Undecided format**\n",
        "\n",
        "In the case of tickets, data exists in various formats."
      ]
    },
    {
      "cell_type": "code",
      "metadata": {
        "colab": {
          "base_uri": "https://localhost:8080/",
          "height": 137
        },
        "id": "W5FjY_0Rx3xT",
        "outputId": "2ab7f1ca-0f01-4687-e898-53931419b946"
      },
      "source": [
        "train.loc[1:3]"
      ],
      "execution_count": null,
      "outputs": [
        {
          "output_type": "execute_result",
          "data": {
            "text/html": [
              "<div>\n",
              "<style scoped>\n",
              "    .dataframe tbody tr th:only-of-type {\n",
              "        vertical-align: middle;\n",
              "    }\n",
              "\n",
              "    .dataframe tbody tr th {\n",
              "        vertical-align: top;\n",
              "    }\n",
              "\n",
              "    .dataframe thead th {\n",
              "        text-align: right;\n",
              "    }\n",
              "</style>\n",
              "<table border=\"1\" class=\"dataframe\">\n",
              "  <thead>\n",
              "    <tr style=\"text-align: right;\">\n",
              "      <th></th>\n",
              "      <th>PassengerId</th>\n",
              "      <th>Survived</th>\n",
              "      <th>Pclass</th>\n",
              "      <th>Name</th>\n",
              "      <th>Sex</th>\n",
              "      <th>Age</th>\n",
              "      <th>SibSp</th>\n",
              "      <th>Parch</th>\n",
              "      <th>Ticket</th>\n",
              "      <th>Fare</th>\n",
              "      <th>Cabin</th>\n",
              "      <th>Embarked</th>\n",
              "    </tr>\n",
              "  </thead>\n",
              "  <tbody>\n",
              "    <tr>\n",
              "      <th>1</th>\n",
              "      <td>2</td>\n",
              "      <td>1</td>\n",
              "      <td>1</td>\n",
              "      <td>Cumings, Mrs. John Bradley (Florence Briggs Th...</td>\n",
              "      <td>female</td>\n",
              "      <td>38.0</td>\n",
              "      <td>1</td>\n",
              "      <td>0</td>\n",
              "      <td>PC 17599</td>\n",
              "      <td>71.2833</td>\n",
              "      <td>C85</td>\n",
              "      <td>C</td>\n",
              "    </tr>\n",
              "    <tr>\n",
              "      <th>2</th>\n",
              "      <td>3</td>\n",
              "      <td>1</td>\n",
              "      <td>3</td>\n",
              "      <td>Heikkinen, Miss. Laina</td>\n",
              "      <td>female</td>\n",
              "      <td>26.0</td>\n",
              "      <td>0</td>\n",
              "      <td>0</td>\n",
              "      <td>STON/O2. 3101282</td>\n",
              "      <td>7.9250</td>\n",
              "      <td>NaN</td>\n",
              "      <td>S</td>\n",
              "    </tr>\n",
              "    <tr>\n",
              "      <th>3</th>\n",
              "      <td>4</td>\n",
              "      <td>1</td>\n",
              "      <td>1</td>\n",
              "      <td>Futrelle, Mrs. Jacques Heath (Lily May Peel)</td>\n",
              "      <td>female</td>\n",
              "      <td>35.0</td>\n",
              "      <td>1</td>\n",
              "      <td>0</td>\n",
              "      <td>113803</td>\n",
              "      <td>53.1000</td>\n",
              "      <td>C123</td>\n",
              "      <td>S</td>\n",
              "    </tr>\n",
              "  </tbody>\n",
              "</table>\n",
              "</div>"
            ],
            "text/plain": [
              "   PassengerId  Survived  Pclass  ...     Fare Cabin  Embarked\n",
              "1            2         1       1  ...  71.2833   C85         C\n",
              "2            3         1       3  ...   7.9250   NaN         S\n",
              "3            4         1       1  ...  53.1000  C123         S\n",
              "\n",
              "[3 rows x 12 columns]"
            ]
          },
          "metadata": {
            "tags": []
          },
          "execution_count": 740
        }
      ]
    },
    {
      "cell_type": "markdown",
      "metadata": {
        "id": "cE3vSKyLygQm"
      },
      "source": [
        "If you look at the tickets for passengers with Passenger IDs 2 and 3, alphabets and numbers are included, but tickets for passengers with Passenger ID 4 are made up of numbers only. Also, the ticket format for passengers with Passenger ID 2 and Passenger ID 3 is different."
      ]
    },
    {
      "cell_type": "markdown",
      "metadata": {
        "id": "SbSuUtFE1Vi8"
      },
      "source": [
        "### 2.3 Representative [5 points]"
      ]
    },
    {
      "cell_type": "markdown",
      "metadata": {
        "id": "xt1EbX7bxliy"
      },
      "source": [
        "According to the data wrangling (maybe some visualizations), is the data obtained representative for the problem according to your data population? What kind of assumptions are needed that the analysis using the current data can solve the problem? [5 points]"
      ]
    },
    {
      "cell_type": "markdown",
      "metadata": {
        "id": "dghGjZyKfQBv"
      },
      "source": [
        "Since this data is for 891 passengers out of 2,224 people on the Titanic, it is representative for the problem according to my data population. However, in order to use this data for analysis, we must assume that 891 passengers in the data were randomly selected."
      ]
    },
    {
      "cell_type": "markdown",
      "metadata": {
        "id": "uQXHABqt4xiE"
      },
      "source": [
        "### 2.4 Sampling method  [2 points]"
      ]
    },
    {
      "cell_type": "markdown",
      "metadata": {
        "id": "ifyGXqw5xrEj"
      },
      "source": [
        "Comparing the data population and the given data, guess what kind of sampling method maybe used during the data collection and why do you guess so. [2 points]"
      ]
    },
    {
      "cell_type": "markdown",
      "metadata": {
        "id": "CdYASWgTje_9"
      },
      "source": [
        "Basically, Simple Random Sample is possible. A random sample of 891 passengers from 2224 Titanic passengers. Also Stratified Sampling\n",
        "It is also possible. Assume that we make 2 strata. One of the 2224 Titanic's passengers is the surviving passengers and the other is the dead passengers. And if 891 passengers are sampled from each strata, only the surviving passengers won't be sampled or the dead passengers will not be sampled."
      ]
    },
    {
      "cell_type": "code",
      "metadata": {
        "colab": {
          "base_uri": "https://localhost:8080/",
          "height": 314
        },
        "id": "jn3xkCcYN2bZ",
        "outputId": "20fbe4e5-5df1-4cc7-94a3-c89ea2f6842a"
      },
      "source": [
        "df_surv_count =pd.DataFrame(train.groupby('Survived')['PassengerId'].count())\n",
        "\n",
        "plt.bar(df_surv_count.index, df_surv_count.PassengerId, tick_label=['No', 'Yes'])\n",
        "\n",
        "plt.xlabel('Survived')\n",
        "plt.ylabel('Number of Passenger')\n",
        "plt.title('Number of Passenger Suvived or Dead')"
      ],
      "execution_count": null,
      "outputs": [
        {
          "output_type": "execute_result",
          "data": {
            "text/plain": [
              "Text(0.5, 1.0, 'Number of Passenger Suvived or Dead')"
            ]
          },
          "metadata": {
            "tags": []
          },
          "execution_count": 741
        },
        {
          "output_type": "display_data",
          "data": {
            "image/png": "[encoded data removed]",
            "text/plain": [
              "<Figure size 432x288 with 1 Axes>"
            ]
          },
          "metadata": {
            "tags": [],
            "needs_background": "light"
          }
        }
      ]
    },
    {
      "cell_type": "markdown",
      "metadata": {
        "id": "nFoPd0rp1hb8"
      },
      "source": [
        "---------------------------------------------------------------"
      ]
    },
    {
      "cell_type": "markdown",
      "metadata": {
        "id": "t8G0sn9eAr8t"
      },
      "source": [
        "#Project Stage 2"
      ]
    },
    {
      "cell_type": "markdown",
      "metadata": {
        "id": "6g64OAbBA1Lk"
      },
      "source": [
        "##Part3. Data Transformation and EDA"
      ]
    },
    {
      "cell_type": "markdown",
      "metadata": {
        "id": "-ocCfmCxBQoT"
      },
      "source": [
        "###3.1. Transformation of the Data  [10 points]"
      ]
    },
    {
      "cell_type": "markdown",
      "metadata": {
        "id": "7feNhjudBi7l"
      },
      "source": [
        "Describe the transformations of the data you have applied if applicable. Why or Why not? [10 points]"
      ]
    },
    {
      "cell_type": "markdown",
      "metadata": {
        "id": "_4uvYznF1cyG"
      },
      "source": [
        "First, in 2.2.f, issues that cause problems for faithfulness have been deleted or changed. And in order to clearly confirm the survival of each age group, the feature 'Age' was grouped by 10 years old."
      ]
    },
    {
      "cell_type": "markdown",
      "metadata": {
        "id": "7VRZFgCCTKuC"
      },
      "source": [
        "**Remove Missing Data**"
      ]
    },
    {
      "cell_type": "markdown",
      "metadata": {
        "id": "M5JUf7R71m4Y"
      },
      "source": [
        "Deleted rows with null values ​​for train data reliability."
      ]
    },
    {
      "cell_type": "code",
      "metadata": {
        "id": "sJ-XkSSRQv_V"
      },
      "source": [
        "train_drop_nan = train.dropna(axis=0)"
      ],
      "execution_count": null,
      "outputs": []
    },
    {
      "cell_type": "code",
      "metadata": {
        "colab": {
          "base_uri": "https://localhost:8080/",
          "height": 197
        },
        "id": "7x5fHOnpSxUP",
        "outputId": "dc9bb5ac-3d5f-4558-bec0-47e5f375662d"
      },
      "source": [
        "train_drop_nan.head()"
      ],
      "execution_count": null,
      "outputs": [
        {
          "output_type": "execute_result",
          "data": {
            "text/html": [
              "<div>\n",
              "<style scoped>\n",
              "    .dataframe tbody tr th:only-of-type {\n",
              "        vertical-align: middle;\n",
              "    }\n",
              "\n",
              "    .dataframe tbody tr th {\n",
              "        vertical-align: top;\n",
              "    }\n",
              "\n",
              "    .dataframe thead th {\n",
              "        text-align: right;\n",
              "    }\n",
              "</style>\n",
              "<table border=\"1\" class=\"dataframe\">\n",
              "  <thead>\n",
              "    <tr style=\"text-align: right;\">\n",
              "      <th></th>\n",
              "      <th>PassengerId</th>\n",
              "      <th>Survived</th>\n",
              "      <th>Pclass</th>\n",
              "      <th>Name</th>\n",
              "      <th>Sex</th>\n",
              "      <th>Age</th>\n",
              "      <th>SibSp</th>\n",
              "      <th>Parch</th>\n",
              "      <th>Ticket</th>\n",
              "      <th>Fare</th>\n",
              "      <th>Cabin</th>\n",
              "      <th>Embarked</th>\n",
              "    </tr>\n",
              "  </thead>\n",
              "  <tbody>\n",
              "    <tr>\n",
              "      <th>1</th>\n",
              "      <td>2</td>\n",
              "      <td>1</td>\n",
              "      <td>1</td>\n",
              "      <td>Cumings, Mrs. John Bradley (Florence Briggs Th...</td>\n",
              "      <td>female</td>\n",
              "      <td>38.0</td>\n",
              "      <td>1</td>\n",
              "      <td>0</td>\n",
              "      <td>PC 17599</td>\n",
              "      <td>71.2833</td>\n",
              "      <td>C85</td>\n",
              "      <td>C</td>\n",
              "    </tr>\n",
              "    <tr>\n",
              "      <th>3</th>\n",
              "      <td>4</td>\n",
              "      <td>1</td>\n",
              "      <td>1</td>\n",
              "      <td>Futrelle, Mrs. Jacques Heath (Lily May Peel)</td>\n",
              "      <td>female</td>\n",
              "      <td>35.0</td>\n",
              "      <td>1</td>\n",
              "      <td>0</td>\n",
              "      <td>113803</td>\n",
              "      <td>53.1000</td>\n",
              "      <td>C123</td>\n",
              "      <td>S</td>\n",
              "    </tr>\n",
              "    <tr>\n",
              "      <th>6</th>\n",
              "      <td>7</td>\n",
              "      <td>0</td>\n",
              "      <td>1</td>\n",
              "      <td>McCarthy, Mr. Timothy J</td>\n",
              "      <td>male</td>\n",
              "      <td>54.0</td>\n",
              "      <td>0</td>\n",
              "      <td>0</td>\n",
              "      <td>17463</td>\n",
              "      <td>51.8625</td>\n",
              "      <td>E46</td>\n",
              "      <td>S</td>\n",
              "    </tr>\n",
              "    <tr>\n",
              "      <th>10</th>\n",
              "      <td>11</td>\n",
              "      <td>1</td>\n",
              "      <td>3</td>\n",
              "      <td>Sandstrom, Miss. Marguerite Rut</td>\n",
              "      <td>female</td>\n",
              "      <td>4.0</td>\n",
              "      <td>1</td>\n",
              "      <td>1</td>\n",
              "      <td>PP 9549</td>\n",
              "      <td>16.7000</td>\n",
              "      <td>G6</td>\n",
              "      <td>S</td>\n",
              "    </tr>\n",
              "    <tr>\n",
              "      <th>11</th>\n",
              "      <td>12</td>\n",
              "      <td>1</td>\n",
              "      <td>1</td>\n",
              "      <td>Bonnell, Miss. Elizabeth</td>\n",
              "      <td>female</td>\n",
              "      <td>58.0</td>\n",
              "      <td>0</td>\n",
              "      <td>0</td>\n",
              "      <td>113783</td>\n",
              "      <td>26.5500</td>\n",
              "      <td>C103</td>\n",
              "      <td>S</td>\n",
              "    </tr>\n",
              "  </tbody>\n",
              "</table>\n",
              "</div>"
            ],
            "text/plain": [
              "    PassengerId  Survived  Pclass  ...     Fare Cabin  Embarked\n",
              "1             2         1       1  ...  71.2833   C85         C\n",
              "3             4         1       1  ...  53.1000  C123         S\n",
              "6             7         0       1  ...  51.8625   E46         S\n",
              "10           11         1       3  ...  16.7000    G6         S\n",
              "11           12         1       1  ...  26.5500  C103         S\n",
              "\n",
              "[5 rows x 12 columns]"
            ]
          },
          "metadata": {
            "tags": []
          },
          "execution_count": 743
        }
      ]
    },
    {
      "cell_type": "markdown",
      "metadata": {
        "id": "7uC2SJd_n-c3"
      },
      "source": [
        "In the case of the test data, we need to predict the survival probability of all passengers in the data, so we fill in the area without data with the average value of the column."
      ]
    },
    {
      "cell_type": "code",
      "metadata": {
        "id": "dSfggRion83T"
      },
      "source": [
        "test['Age']=test['Age'].replace(np.nan, test['Age'].mean() )"
      ],
      "execution_count": null,
      "outputs": []
    },
    {
      "cell_type": "markdown",
      "metadata": {
        "id": "-PWZ-7wYTbAZ"
      },
      "source": [
        "**Change inappropriate data types**"
      ]
    },
    {
      "cell_type": "markdown",
      "metadata": {
        "id": "LvXC9aAQ1yGr"
      },
      "source": [
        "Age cannot exist as a float value, so all Age values ​​have been transformed into int values."
      ]
    },
    {
      "cell_type": "code",
      "metadata": {
        "colab": {
          "base_uri": "https://localhost:8080/"
        },
        "id": "Dw0hQisxTAwU",
        "outputId": "a057ccc5-02b7-4422-a2b9-69f65ebcc42b"
      },
      "source": [
        "train_change_type=train_drop_nan\n",
        "train_change_type.Age=train_drop_nan.Age.astype(int)"
      ],
      "execution_count": null,
      "outputs": [
        {
          "output_type": "stream",
          "text": [
            "/usr/local/lib/python3.7/dist-packages/pandas/core/generic.py:5170: SettingWithCopyWarning: \n",
            "A value is trying to be set on a copy of a slice from a DataFrame.\n",
            "Try using .loc[row_indexer,col_indexer] = value instead\n",
            "\n",
            "See the caveats in the documentation: https://pandas.pydata.org/pandas-docs/stable/user_guide/indexing.html#returning-a-view-versus-a-copy\n",
            "  self[name] = value\n"
          ],
          "name": "stderr"
        }
      ]
    },
    {
      "cell_type": "code",
      "metadata": {
        "colab": {
          "base_uri": "https://localhost:8080/",
          "height": 197
        },
        "id": "-rkomn3TUDXk",
        "outputId": "04f6bd21-7e65-4d29-ca57-6aaef58dc6e4"
      },
      "source": [
        "train_change_type.head()"
      ],
      "execution_count": null,
      "outputs": [
        {
          "output_type": "execute_result",
          "data": {
            "text/html": [
              "<div>\n",
              "<style scoped>\n",
              "    .dataframe tbody tr th:only-of-type {\n",
              "        vertical-align: middle;\n",
              "    }\n",
              "\n",
              "    .dataframe tbody tr th {\n",
              "        vertical-align: top;\n",
              "    }\n",
              "\n",
              "    .dataframe thead th {\n",
              "        text-align: right;\n",
              "    }\n",
              "</style>\n",
              "<table border=\"1\" class=\"dataframe\">\n",
              "  <thead>\n",
              "    <tr style=\"text-align: right;\">\n",
              "      <th></th>\n",
              "      <th>PassengerId</th>\n",
              "      <th>Survived</th>\n",
              "      <th>Pclass</th>\n",
              "      <th>Name</th>\n",
              "      <th>Sex</th>\n",
              "      <th>Age</th>\n",
              "      <th>SibSp</th>\n",
              "      <th>Parch</th>\n",
              "      <th>Ticket</th>\n",
              "      <th>Fare</th>\n",
              "      <th>Cabin</th>\n",
              "      <th>Embarked</th>\n",
              "    </tr>\n",
              "  </thead>\n",
              "  <tbody>\n",
              "    <tr>\n",
              "      <th>1</th>\n",
              "      <td>2</td>\n",
              "      <td>1</td>\n",
              "      <td>1</td>\n",
              "      <td>Cumings, Mrs. John Bradley (Florence Briggs Th...</td>\n",
              "      <td>female</td>\n",
              "      <td>38</td>\n",
              "      <td>1</td>\n",
              "      <td>0</td>\n",
              "      <td>PC 17599</td>\n",
              "      <td>71.2833</td>\n",
              "      <td>C85</td>\n",
              "      <td>C</td>\n",
              "    </tr>\n",
              "    <tr>\n",
              "      <th>3</th>\n",
              "      <td>4</td>\n",
              "      <td>1</td>\n",
              "      <td>1</td>\n",
              "      <td>Futrelle, Mrs. Jacques Heath (Lily May Peel)</td>\n",
              "      <td>female</td>\n",
              "      <td>35</td>\n",
              "      <td>1</td>\n",
              "      <td>0</td>\n",
              "      <td>113803</td>\n",
              "      <td>53.1000</td>\n",
              "      <td>C123</td>\n",
              "      <td>S</td>\n",
              "    </tr>\n",
              "    <tr>\n",
              "      <th>6</th>\n",
              "      <td>7</td>\n",
              "      <td>0</td>\n",
              "      <td>1</td>\n",
              "      <td>McCarthy, Mr. Timothy J</td>\n",
              "      <td>male</td>\n",
              "      <td>54</td>\n",
              "      <td>0</td>\n",
              "      <td>0</td>\n",
              "      <td>17463</td>\n",
              "      <td>51.8625</td>\n",
              "      <td>E46</td>\n",
              "      <td>S</td>\n",
              "    </tr>\n",
              "    <tr>\n",
              "      <th>10</th>\n",
              "      <td>11</td>\n",
              "      <td>1</td>\n",
              "      <td>3</td>\n",
              "      <td>Sandstrom, Miss. Marguerite Rut</td>\n",
              "      <td>female</td>\n",
              "      <td>4</td>\n",
              "      <td>1</td>\n",
              "      <td>1</td>\n",
              "      <td>PP 9549</td>\n",
              "      <td>16.7000</td>\n",
              "      <td>G6</td>\n",
              "      <td>S</td>\n",
              "    </tr>\n",
              "    <tr>\n",
              "      <th>11</th>\n",
              "      <td>12</td>\n",
              "      <td>1</td>\n",
              "      <td>1</td>\n",
              "      <td>Bonnell, Miss. Elizabeth</td>\n",
              "      <td>female</td>\n",
              "      <td>58</td>\n",
              "      <td>0</td>\n",
              "      <td>0</td>\n",
              "      <td>113783</td>\n",
              "      <td>26.5500</td>\n",
              "      <td>C103</td>\n",
              "      <td>S</td>\n",
              "    </tr>\n",
              "  </tbody>\n",
              "</table>\n",
              "</div>"
            ],
            "text/plain": [
              "    PassengerId  Survived  Pclass  ...     Fare Cabin  Embarked\n",
              "1             2         1       1  ...  71.2833   C85         C\n",
              "3             4         1       1  ...  53.1000  C123         S\n",
              "6             7         0       1  ...  51.8625   E46         S\n",
              "10           11         1       3  ...  16.7000    G6         S\n",
              "11           12         1       1  ...  26.5500  C103         S\n",
              "\n",
              "[5 rows x 12 columns]"
            ]
          },
          "metadata": {
            "tags": []
          },
          "execution_count": 746
        }
      ]
    },
    {
      "cell_type": "code",
      "metadata": {
        "id": "kurHMkvXok1t"
      },
      "source": [
        "test.Age=test.Age.astype(int)"
      ],
      "execution_count": null,
      "outputs": []
    },
    {
      "cell_type": "code",
      "metadata": {
        "colab": {
          "base_uri": "https://localhost:8080/",
          "height": 197
        },
        "id": "rhiOi752omSI",
        "outputId": "36b69faa-48dc-4dae-b34b-26c9423fc009"
      },
      "source": [
        "test.head()"
      ],
      "execution_count": null,
      "outputs": [
        {
          "output_type": "execute_result",
          "data": {
            "text/html": [
              "<div>\n",
              "<style scoped>\n",
              "    .dataframe tbody tr th:only-of-type {\n",
              "        vertical-align: middle;\n",
              "    }\n",
              "\n",
              "    .dataframe tbody tr th {\n",
              "        vertical-align: top;\n",
              "    }\n",
              "\n",
              "    .dataframe thead th {\n",
              "        text-align: right;\n",
              "    }\n",
              "</style>\n",
              "<table border=\"1\" class=\"dataframe\">\n",
              "  <thead>\n",
              "    <tr style=\"text-align: right;\">\n",
              "      <th></th>\n",
              "      <th>PassengerId</th>\n",
              "      <th>Pclass</th>\n",
              "      <th>Name</th>\n",
              "      <th>Sex</th>\n",
              "      <th>Age</th>\n",
              "      <th>SibSp</th>\n",
              "      <th>Parch</th>\n",
              "      <th>Ticket</th>\n",
              "      <th>Fare</th>\n",
              "      <th>Cabin</th>\n",
              "      <th>Embarked</th>\n",
              "    </tr>\n",
              "  </thead>\n",
              "  <tbody>\n",
              "    <tr>\n",
              "      <th>0</th>\n",
              "      <td>892</td>\n",
              "      <td>3</td>\n",
              "      <td>Kelly, Mr. James</td>\n",
              "      <td>male</td>\n",
              "      <td>34</td>\n",
              "      <td>0</td>\n",
              "      <td>0</td>\n",
              "      <td>330911</td>\n",
              "      <td>7.8292</td>\n",
              "      <td>NaN</td>\n",
              "      <td>Q</td>\n",
              "    </tr>\n",
              "    <tr>\n",
              "      <th>1</th>\n",
              "      <td>893</td>\n",
              "      <td>3</td>\n",
              "      <td>Wilkes, Mrs. James (Ellen Needs)</td>\n",
              "      <td>female</td>\n",
              "      <td>47</td>\n",
              "      <td>1</td>\n",
              "      <td>0</td>\n",
              "      <td>363272</td>\n",
              "      <td>7.0000</td>\n",
              "      <td>NaN</td>\n",
              "      <td>S</td>\n",
              "    </tr>\n",
              "    <tr>\n",
              "      <th>2</th>\n",
              "      <td>894</td>\n",
              "      <td>2</td>\n",
              "      <td>Myles, Mr. Thomas Francis</td>\n",
              "      <td>male</td>\n",
              "      <td>62</td>\n",
              "      <td>0</td>\n",
              "      <td>0</td>\n",
              "      <td>240276</td>\n",
              "      <td>9.6875</td>\n",
              "      <td>NaN</td>\n",
              "      <td>Q</td>\n",
              "    </tr>\n",
              "    <tr>\n",
              "      <th>3</th>\n",
              "      <td>895</td>\n",
              "      <td>3</td>\n",
              "      <td>Wirz, Mr. Albert</td>\n",
              "      <td>male</td>\n",
              "      <td>27</td>\n",
              "      <td>0</td>\n",
              "      <td>0</td>\n",
              "      <td>315154</td>\n",
              "      <td>8.6625</td>\n",
              "      <td>NaN</td>\n",
              "      <td>S</td>\n",
              "    </tr>\n",
              "    <tr>\n",
              "      <th>4</th>\n",
              "      <td>896</td>\n",
              "      <td>3</td>\n",
              "      <td>Hirvonen, Mrs. Alexander (Helga E Lindqvist)</td>\n",
              "      <td>female</td>\n",
              "      <td>22</td>\n",
              "      <td>1</td>\n",
              "      <td>1</td>\n",
              "      <td>3101298</td>\n",
              "      <td>12.2875</td>\n",
              "      <td>NaN</td>\n",
              "      <td>S</td>\n",
              "    </tr>\n",
              "  </tbody>\n",
              "</table>\n",
              "</div>"
            ],
            "text/plain": [
              "   PassengerId  Pclass  ... Cabin Embarked\n",
              "0          892       3  ...   NaN        Q\n",
              "1          893       3  ...   NaN        S\n",
              "2          894       2  ...   NaN        Q\n",
              "3          895       3  ...   NaN        S\n",
              "4          896       3  ...   NaN        S\n",
              "\n",
              "[5 rows x 11 columns]"
            ]
          },
          "metadata": {
            "tags": []
          },
          "execution_count": 748
        }
      ]
    },
    {
      "cell_type": "markdown",
      "metadata": {
        "id": "chzLJgNdVjS-"
      },
      "source": [
        "**Change Undecided format**"
      ]
    },
    {
      "cell_type": "markdown",
      "metadata": {
        "id": "jCkOQQ632DVD"
      },
      "source": [
        "Since Ticket values ​​exist in multiple formats, I changed the format to a numeric value."
      ]
    },
    {
      "cell_type": "code",
      "metadata": {
        "colab": {
          "base_uri": "https://localhost:8080/"
        },
        "id": "BWxH1MJ2V5x7",
        "outputId": "04f330e8-2301-4ddc-8903-f16eecc43a1a"
      },
      "source": [
        "train_change_format=train_change_type\n",
        "train_change_format.Ticket=train_change_type.Ticket.str.extract('(\\d+)')"
      ],
      "execution_count": null,
      "outputs": [
        {
          "output_type": "stream",
          "text": [
            "/usr/local/lib/python3.7/dist-packages/pandas/core/generic.py:5170: SettingWithCopyWarning: \n",
            "A value is trying to be set on a copy of a slice from a DataFrame.\n",
            "Try using .loc[row_indexer,col_indexer] = value instead\n",
            "\n",
            "See the caveats in the documentation: https://pandas.pydata.org/pandas-docs/stable/user_guide/indexing.html#returning-a-view-versus-a-copy\n",
            "  self[name] = value\n"
          ],
          "name": "stderr"
        }
      ]
    },
    {
      "cell_type": "code",
      "metadata": {
        "colab": {
          "base_uri": "https://localhost:8080/",
          "height": 197
        },
        "id": "Ac7Iz1GSWRhH",
        "outputId": "8417d00f-8926-4198-a17e-ecee4eda668b"
      },
      "source": [
        "train_change_format.head()"
      ],
      "execution_count": null,
      "outputs": [
        {
          "output_type": "execute_result",
          "data": {
            "text/html": [
              "<div>\n",
              "<style scoped>\n",
              "    .dataframe tbody tr th:only-of-type {\n",
              "        vertical-align: middle;\n",
              "    }\n",
              "\n",
              "    .dataframe tbody tr th {\n",
              "        vertical-align: top;\n",
              "    }\n",
              "\n",
              "    .dataframe thead th {\n",
              "        text-align: right;\n",
              "    }\n",
              "</style>\n",
              "<table border=\"1\" class=\"dataframe\">\n",
              "  <thead>\n",
              "    <tr style=\"text-align: right;\">\n",
              "      <th></th>\n",
              "      <th>PassengerId</th>\n",
              "      <th>Survived</th>\n",
              "      <th>Pclass</th>\n",
              "      <th>Name</th>\n",
              "      <th>Sex</th>\n",
              "      <th>Age</th>\n",
              "      <th>SibSp</th>\n",
              "      <th>Parch</th>\n",
              "      <th>Ticket</th>\n",
              "      <th>Fare</th>\n",
              "      <th>Cabin</th>\n",
              "      <th>Embarked</th>\n",
              "    </tr>\n",
              "  </thead>\n",
              "  <tbody>\n",
              "    <tr>\n",
              "      <th>1</th>\n",
              "      <td>2</td>\n",
              "      <td>1</td>\n",
              "      <td>1</td>\n",
              "      <td>Cumings, Mrs. John Bradley (Florence Briggs Th...</td>\n",
              "      <td>female</td>\n",
              "      <td>38</td>\n",
              "      <td>1</td>\n",
              "      <td>0</td>\n",
              "      <td>17599</td>\n",
              "      <td>71.2833</td>\n",
              "      <td>C85</td>\n",
              "      <td>C</td>\n",
              "    </tr>\n",
              "    <tr>\n",
              "      <th>3</th>\n",
              "      <td>4</td>\n",
              "      <td>1</td>\n",
              "      <td>1</td>\n",
              "      <td>Futrelle, Mrs. Jacques Heath (Lily May Peel)</td>\n",
              "      <td>female</td>\n",
              "      <td>35</td>\n",
              "      <td>1</td>\n",
              "      <td>0</td>\n",
              "      <td>113803</td>\n",
              "      <td>53.1000</td>\n",
              "      <td>C123</td>\n",
              "      <td>S</td>\n",
              "    </tr>\n",
              "    <tr>\n",
              "      <th>6</th>\n",
              "      <td>7</td>\n",
              "      <td>0</td>\n",
              "      <td>1</td>\n",
              "      <td>McCarthy, Mr. Timothy J</td>\n",
              "      <td>male</td>\n",
              "      <td>54</td>\n",
              "      <td>0</td>\n",
              "      <td>0</td>\n",
              "      <td>17463</td>\n",
              "      <td>51.8625</td>\n",
              "      <td>E46</td>\n",
              "      <td>S</td>\n",
              "    </tr>\n",
              "    <tr>\n",
              "      <th>10</th>\n",
              "      <td>11</td>\n",
              "      <td>1</td>\n",
              "      <td>3</td>\n",
              "      <td>Sandstrom, Miss. Marguerite Rut</td>\n",
              "      <td>female</td>\n",
              "      <td>4</td>\n",
              "      <td>1</td>\n",
              "      <td>1</td>\n",
              "      <td>9549</td>\n",
              "      <td>16.7000</td>\n",
              "      <td>G6</td>\n",
              "      <td>S</td>\n",
              "    </tr>\n",
              "    <tr>\n",
              "      <th>11</th>\n",
              "      <td>12</td>\n",
              "      <td>1</td>\n",
              "      <td>1</td>\n",
              "      <td>Bonnell, Miss. Elizabeth</td>\n",
              "      <td>female</td>\n",
              "      <td>58</td>\n",
              "      <td>0</td>\n",
              "      <td>0</td>\n",
              "      <td>113783</td>\n",
              "      <td>26.5500</td>\n",
              "      <td>C103</td>\n",
              "      <td>S</td>\n",
              "    </tr>\n",
              "  </tbody>\n",
              "</table>\n",
              "</div>"
            ],
            "text/plain": [
              "    PassengerId  Survived  Pclass  ...     Fare Cabin  Embarked\n",
              "1             2         1       1  ...  71.2833   C85         C\n",
              "3             4         1       1  ...  53.1000  C123         S\n",
              "6             7         0       1  ...  51.8625   E46         S\n",
              "10           11         1       3  ...  16.7000    G6         S\n",
              "11           12         1       1  ...  26.5500  C103         S\n",
              "\n",
              "[5 rows x 12 columns]"
            ]
          },
          "metadata": {
            "tags": []
          },
          "execution_count": 750
        }
      ]
    },
    {
      "cell_type": "code",
      "metadata": {
        "id": "GJJPxjrdvtKV"
      },
      "source": [
        "test.Ticket=test.Ticket.str.extract('(\\d+)')"
      ],
      "execution_count": null,
      "outputs": []
    },
    {
      "cell_type": "code",
      "metadata": {
        "colab": {
          "base_uri": "https://localhost:8080/",
          "height": 197
        },
        "id": "BkfdVIvTovNj",
        "outputId": "f109240c-4e2c-4191-f2d3-85af9021f50a"
      },
      "source": [
        "test.head()"
      ],
      "execution_count": null,
      "outputs": [
        {
          "output_type": "execute_result",
          "data": {
            "text/html": [
              "<div>\n",
              "<style scoped>\n",
              "    .dataframe tbody tr th:only-of-type {\n",
              "        vertical-align: middle;\n",
              "    }\n",
              "\n",
              "    .dataframe tbody tr th {\n",
              "        vertical-align: top;\n",
              "    }\n",
              "\n",
              "    .dataframe thead th {\n",
              "        text-align: right;\n",
              "    }\n",
              "</style>\n",
              "<table border=\"1\" class=\"dataframe\">\n",
              "  <thead>\n",
              "    <tr style=\"text-align: right;\">\n",
              "      <th></th>\n",
              "      <th>PassengerId</th>\n",
              "      <th>Pclass</th>\n",
              "      <th>Name</th>\n",
              "      <th>Sex</th>\n",
              "      <th>Age</th>\n",
              "      <th>SibSp</th>\n",
              "      <th>Parch</th>\n",
              "      <th>Ticket</th>\n",
              "      <th>Fare</th>\n",
              "      <th>Cabin</th>\n",
              "      <th>Embarked</th>\n",
              "    </tr>\n",
              "  </thead>\n",
              "  <tbody>\n",
              "    <tr>\n",
              "      <th>0</th>\n",
              "      <td>892</td>\n",
              "      <td>3</td>\n",
              "      <td>Kelly, Mr. James</td>\n",
              "      <td>male</td>\n",
              "      <td>34</td>\n",
              "      <td>0</td>\n",
              "      <td>0</td>\n",
              "      <td>330911</td>\n",
              "      <td>7.8292</td>\n",
              "      <td>NaN</td>\n",
              "      <td>Q</td>\n",
              "    </tr>\n",
              "    <tr>\n",
              "      <th>1</th>\n",
              "      <td>893</td>\n",
              "      <td>3</td>\n",
              "      <td>Wilkes, Mrs. James (Ellen Needs)</td>\n",
              "      <td>female</td>\n",
              "      <td>47</td>\n",
              "      <td>1</td>\n",
              "      <td>0</td>\n",
              "      <td>363272</td>\n",
              "      <td>7.0000</td>\n",
              "      <td>NaN</td>\n",
              "      <td>S</td>\n",
              "    </tr>\n",
              "    <tr>\n",
              "      <th>2</th>\n",
              "      <td>894</td>\n",
              "      <td>2</td>\n",
              "      <td>Myles, Mr. Thomas Francis</td>\n",
              "      <td>male</td>\n",
              "      <td>62</td>\n",
              "      <td>0</td>\n",
              "      <td>0</td>\n",
              "      <td>240276</td>\n",
              "      <td>9.6875</td>\n",
              "      <td>NaN</td>\n",
              "      <td>Q</td>\n",
              "    </tr>\n",
              "    <tr>\n",
              "      <th>3</th>\n",
              "      <td>895</td>\n",
              "      <td>3</td>\n",
              "      <td>Wirz, Mr. Albert</td>\n",
              "      <td>male</td>\n",
              "      <td>27</td>\n",
              "      <td>0</td>\n",
              "      <td>0</td>\n",
              "      <td>315154</td>\n",
              "      <td>8.6625</td>\n",
              "      <td>NaN</td>\n",
              "      <td>S</td>\n",
              "    </tr>\n",
              "    <tr>\n",
              "      <th>4</th>\n",
              "      <td>896</td>\n",
              "      <td>3</td>\n",
              "      <td>Hirvonen, Mrs. Alexander (Helga E Lindqvist)</td>\n",
              "      <td>female</td>\n",
              "      <td>22</td>\n",
              "      <td>1</td>\n",
              "      <td>1</td>\n",
              "      <td>3101298</td>\n",
              "      <td>12.2875</td>\n",
              "      <td>NaN</td>\n",
              "      <td>S</td>\n",
              "    </tr>\n",
              "  </tbody>\n",
              "</table>\n",
              "</div>"
            ],
            "text/plain": [
              "   PassengerId  Pclass  ... Cabin Embarked\n",
              "0          892       3  ...   NaN        Q\n",
              "1          893       3  ...   NaN        S\n",
              "2          894       2  ...   NaN        Q\n",
              "3          895       3  ...   NaN        S\n",
              "4          896       3  ...   NaN        S\n",
              "\n",
              "[5 rows x 11 columns]"
            ]
          },
          "metadata": {
            "tags": []
          },
          "execution_count": 752
        }
      ]
    },
    {
      "cell_type": "markdown",
      "metadata": {
        "id": "CSI_634NX27q"
      },
      "source": [
        "**Devide Age Group**"
      ]
    },
    {
      "cell_type": "markdown",
      "metadata": {
        "id": "DDthPqqq2tPX"
      },
      "source": [
        "By grouping ages, we made it possible to clearly confirm the survival of each age group."
      ]
    },
    {
      "cell_type": "code",
      "metadata": {
        "colab": {
          "base_uri": "https://localhost:8080/",
          "height": 306
        },
        "id": "ADWDofozX8LD",
        "outputId": "1cbe548d-f047-4a6c-cde4-893b12ed7250"
      },
      "source": [
        "bins = [0, 10, 20, 30, 40, 50, 60, 70, 100]\n",
        "bins_label =['0-9', '10-19', '20-29', '30-39', '40-49', '50-59', '60-69', '70~79', '80~']\n",
        "train_change_format['Age_level'] = pd.cut(train_change_format['Age'], bins, right=False, labels=bins_label[:-1])\n",
        "\n",
        "train_change_format.head()"
      ],
      "execution_count": null,
      "outputs": [
        {
          "output_type": "stream",
          "text": [
            "/usr/local/lib/python3.7/dist-packages/ipykernel_launcher.py:3: SettingWithCopyWarning: \n",
            "A value is trying to be set on a copy of a slice from a DataFrame.\n",
            "Try using .loc[row_indexer,col_indexer] = value instead\n",
            "\n",
            "See the caveats in the documentation: https://pandas.pydata.org/pandas-docs/stable/user_guide/indexing.html#returning-a-view-versus-a-copy\n",
            "  This is separate from the ipykernel package so we can avoid doing imports until\n"
          ],
          "name": "stderr"
        },
        {
          "output_type": "execute_result",
          "data": {
            "text/html": [
              "<div>\n",
              "<style scoped>\n",
              "    .dataframe tbody tr th:only-of-type {\n",
              "        vertical-align: middle;\n",
              "    }\n",
              "\n",
              "    .dataframe tbody tr th {\n",
              "        vertical-align: top;\n",
              "    }\n",
              "\n",
              "    .dataframe thead th {\n",
              "        text-align: right;\n",
              "    }\n",
              "</style>\n",
              "<table border=\"1\" class=\"dataframe\">\n",
              "  <thead>\n",
              "    <tr style=\"text-align: right;\">\n",
              "      <th></th>\n",
              "      <th>PassengerId</th>\n",
              "      <th>Survived</th>\n",
              "      <th>Pclass</th>\n",
              "      <th>Name</th>\n",
              "      <th>Sex</th>\n",
              "      <th>Age</th>\n",
              "      <th>SibSp</th>\n",
              "      <th>Parch</th>\n",
              "      <th>Ticket</th>\n",
              "      <th>Fare</th>\n",
              "      <th>Cabin</th>\n",
              "      <th>Embarked</th>\n",
              "      <th>Age_level</th>\n",
              "    </tr>\n",
              "  </thead>\n",
              "  <tbody>\n",
              "    <tr>\n",
              "      <th>1</th>\n",
              "      <td>2</td>\n",
              "      <td>1</td>\n",
              "      <td>1</td>\n",
              "      <td>Cumings, Mrs. John Bradley (Florence Briggs Th...</td>\n",
              "      <td>female</td>\n",
              "      <td>38</td>\n",
              "      <td>1</td>\n",
              "      <td>0</td>\n",
              "      <td>17599</td>\n",
              "      <td>71.2833</td>\n",
              "      <td>C85</td>\n",
              "      <td>C</td>\n",
              "      <td>30-39</td>\n",
              "    </tr>\n",
              "    <tr>\n",
              "      <th>3</th>\n",
              "      <td>4</td>\n",
              "      <td>1</td>\n",
              "      <td>1</td>\n",
              "      <td>Futrelle, Mrs. Jacques Heath (Lily May Peel)</td>\n",
              "      <td>female</td>\n",
              "      <td>35</td>\n",
              "      <td>1</td>\n",
              "      <td>0</td>\n",
              "      <td>113803</td>\n",
              "      <td>53.1000</td>\n",
              "      <td>C123</td>\n",
              "      <td>S</td>\n",
              "      <td>30-39</td>\n",
              "    </tr>\n",
              "    <tr>\n",
              "      <th>6</th>\n",
              "      <td>7</td>\n",
              "      <td>0</td>\n",
              "      <td>1</td>\n",
              "      <td>McCarthy, Mr. Timothy J</td>\n",
              "      <td>male</td>\n",
              "      <td>54</td>\n",
              "      <td>0</td>\n",
              "      <td>0</td>\n",
              "      <td>17463</td>\n",
              "      <td>51.8625</td>\n",
              "      <td>E46</td>\n",
              "      <td>S</td>\n",
              "      <td>50-59</td>\n",
              "    </tr>\n",
              "    <tr>\n",
              "      <th>10</th>\n",
              "      <td>11</td>\n",
              "      <td>1</td>\n",
              "      <td>3</td>\n",
              "      <td>Sandstrom, Miss. Marguerite Rut</td>\n",
              "      <td>female</td>\n",
              "      <td>4</td>\n",
              "      <td>1</td>\n",
              "      <td>1</td>\n",
              "      <td>9549</td>\n",
              "      <td>16.7000</td>\n",
              "      <td>G6</td>\n",
              "      <td>S</td>\n",
              "      <td>0-9</td>\n",
              "    </tr>\n",
              "    <tr>\n",
              "      <th>11</th>\n",
              "      <td>12</td>\n",
              "      <td>1</td>\n",
              "      <td>1</td>\n",
              "      <td>Bonnell, Miss. Elizabeth</td>\n",
              "      <td>female</td>\n",
              "      <td>58</td>\n",
              "      <td>0</td>\n",
              "      <td>0</td>\n",
              "      <td>113783</td>\n",
              "      <td>26.5500</td>\n",
              "      <td>C103</td>\n",
              "      <td>S</td>\n",
              "      <td>50-59</td>\n",
              "    </tr>\n",
              "  </tbody>\n",
              "</table>\n",
              "</div>"
            ],
            "text/plain": [
              "    PassengerId  Survived  Pclass  ... Cabin Embarked  Age_level\n",
              "1             2         1       1  ...   C85        C      30-39\n",
              "3             4         1       1  ...  C123        S      30-39\n",
              "6             7         0       1  ...   E46        S      50-59\n",
              "10           11         1       3  ...    G6        S        0-9\n",
              "11           12         1       1  ...  C103        S      50-59\n",
              "\n",
              "[5 rows x 13 columns]"
            ]
          },
          "metadata": {
            "tags": []
          },
          "execution_count": 753
        }
      ]
    },
    {
      "cell_type": "code",
      "metadata": {
        "colab": {
          "base_uri": "https://localhost:8080/",
          "height": 197
        },
        "id": "8-3lXd-Fo62X",
        "outputId": "5176c55b-0bc0-4a5a-be50-7dd890e4a8d7"
      },
      "source": [
        "test['Age_level'] = pd.cut(test['Age'], bins, right=False, labels=bins_label[:-1])\n",
        "\n",
        "test.head()"
      ],
      "execution_count": null,
      "outputs": [
        {
          "output_type": "execute_result",
          "data": {
            "text/html": [
              "<div>\n",
              "<style scoped>\n",
              "    .dataframe tbody tr th:only-of-type {\n",
              "        vertical-align: middle;\n",
              "    }\n",
              "\n",
              "    .dataframe tbody tr th {\n",
              "        vertical-align: top;\n",
              "    }\n",
              "\n",
              "    .dataframe thead th {\n",
              "        text-align: right;\n",
              "    }\n",
              "</style>\n",
              "<table border=\"1\" class=\"dataframe\">\n",
              "  <thead>\n",
              "    <tr style=\"text-align: right;\">\n",
              "      <th></th>\n",
              "      <th>PassengerId</th>\n",
              "      <th>Pclass</th>\n",
              "      <th>Name</th>\n",
              "      <th>Sex</th>\n",
              "      <th>Age</th>\n",
              "      <th>SibSp</th>\n",
              "      <th>Parch</th>\n",
              "      <th>Ticket</th>\n",
              "      <th>Fare</th>\n",
              "      <th>Cabin</th>\n",
              "      <th>Embarked</th>\n",
              "      <th>Age_level</th>\n",
              "    </tr>\n",
              "  </thead>\n",
              "  <tbody>\n",
              "    <tr>\n",
              "      <th>0</th>\n",
              "      <td>892</td>\n",
              "      <td>3</td>\n",
              "      <td>Kelly, Mr. James</td>\n",
              "      <td>male</td>\n",
              "      <td>34</td>\n",
              "      <td>0</td>\n",
              "      <td>0</td>\n",
              "      <td>330911</td>\n",
              "      <td>7.8292</td>\n",
              "      <td>NaN</td>\n",
              "      <td>Q</td>\n",
              "      <td>30-39</td>\n",
              "    </tr>\n",
              "    <tr>\n",
              "      <th>1</th>\n",
              "      <td>893</td>\n",
              "      <td>3</td>\n",
              "      <td>Wilkes, Mrs. James (Ellen Needs)</td>\n",
              "      <td>female</td>\n",
              "      <td>47</td>\n",
              "      <td>1</td>\n",
              "      <td>0</td>\n",
              "      <td>363272</td>\n",
              "      <td>7.0000</td>\n",
              "      <td>NaN</td>\n",
              "      <td>S</td>\n",
              "      <td>40-49</td>\n",
              "    </tr>\n",
              "    <tr>\n",
              "      <th>2</th>\n",
              "      <td>894</td>\n",
              "      <td>2</td>\n",
              "      <td>Myles, Mr. Thomas Francis</td>\n",
              "      <td>male</td>\n",
              "      <td>62</td>\n",
              "      <td>0</td>\n",
              "      <td>0</td>\n",
              "      <td>240276</td>\n",
              "      <td>9.6875</td>\n",
              "      <td>NaN</td>\n",
              "      <td>Q</td>\n",
              "      <td>60-69</td>\n",
              "    </tr>\n",
              "    <tr>\n",
              "      <th>3</th>\n",
              "      <td>895</td>\n",
              "      <td>3</td>\n",
              "      <td>Wirz, Mr. Albert</td>\n",
              "      <td>male</td>\n",
              "      <td>27</td>\n",
              "      <td>0</td>\n",
              "      <td>0</td>\n",
              "      <td>315154</td>\n",
              "      <td>8.6625</td>\n",
              "      <td>NaN</td>\n",
              "      <td>S</td>\n",
              "      <td>20-29</td>\n",
              "    </tr>\n",
              "    <tr>\n",
              "      <th>4</th>\n",
              "      <td>896</td>\n",
              "      <td>3</td>\n",
              "      <td>Hirvonen, Mrs. Alexander (Helga E Lindqvist)</td>\n",
              "      <td>female</td>\n",
              "      <td>22</td>\n",
              "      <td>1</td>\n",
              "      <td>1</td>\n",
              "      <td>3101298</td>\n",
              "      <td>12.2875</td>\n",
              "      <td>NaN</td>\n",
              "      <td>S</td>\n",
              "      <td>20-29</td>\n",
              "    </tr>\n",
              "  </tbody>\n",
              "</table>\n",
              "</div>"
            ],
            "text/plain": [
              "   PassengerId  Pclass  ... Embarked Age_level\n",
              "0          892       3  ...        Q     30-39\n",
              "1          893       3  ...        S     40-49\n",
              "2          894       2  ...        Q     60-69\n",
              "3          895       3  ...        S     20-29\n",
              "4          896       3  ...        S     20-29\n",
              "\n",
              "[5 rows x 12 columns]"
            ]
          },
          "metadata": {
            "tags": []
          },
          "execution_count": 754
        }
      ]
    },
    {
      "cell_type": "markdown",
      "metadata": {
        "id": "W0ML_RYWB45U"
      },
      "source": [
        "###3.2. Features to use [10 points]"
      ]
    },
    {
      "cell_type": "markdown",
      "metadata": {
        "id": "DcTkBjWCCUnh"
      },
      "source": [
        "What are the features you choose to use for modeling? Why? Note: You may use EDA to show the reason. [10 points]"
      ]
    },
    {
      "cell_type": "markdown",
      "metadata": {
        "id": "BDJqy2CRmoD_"
      },
      "source": [
        "####3.2.a. Age Group"
      ]
    },
    {
      "cell_type": "markdown",
      "metadata": {
        "id": "TAqU40U12xFZ"
      },
      "source": [
        "The first feature chosen is **Age Group**. The reasons for choosing are as follows:"
      ]
    },
    {
      "cell_type": "markdown",
      "metadata": {
        "id": "7aPMHIaKvYYO"
      },
      "source": [
        "**Number of survived or dead passengers by age group**"
      ]
    },
    {
      "cell_type": "code",
      "metadata": {
        "colab": {
          "base_uri": "https://localhost:8080/",
          "height": 197
        },
        "id": "zmy-rgCWgwC2",
        "outputId": "a780afd0-26af-4d74-de65-378bf9e61fee"
      },
      "source": [
        "df_surv_Age_count =pd.DataFrame(train_change_format.groupby(['Age_level', 'Survived'])['PassengerId'].count())\n",
        "df_surv_Age_count = df_surv_Age_count.reset_index()\n",
        "\n",
        "df_surv_Age_count.head()\n"
      ],
      "execution_count": null,
      "outputs": [
        {
          "output_type": "execute_result",
          "data": {
            "text/html": [
              "<div>\n",
              "<style scoped>\n",
              "    .dataframe tbody tr th:only-of-type {\n",
              "        vertical-align: middle;\n",
              "    }\n",
              "\n",
              "    .dataframe tbody tr th {\n",
              "        vertical-align: top;\n",
              "    }\n",
              "\n",
              "    .dataframe thead th {\n",
              "        text-align: right;\n",
              "    }\n",
              "</style>\n",
              "<table border=\"1\" class=\"dataframe\">\n",
              "  <thead>\n",
              "    <tr style=\"text-align: right;\">\n",
              "      <th></th>\n",
              "      <th>Age_level</th>\n",
              "      <th>Survived</th>\n",
              "      <th>PassengerId</th>\n",
              "    </tr>\n",
              "  </thead>\n",
              "  <tbody>\n",
              "    <tr>\n",
              "      <th>0</th>\n",
              "      <td>0-9</td>\n",
              "      <td>0</td>\n",
              "      <td>2</td>\n",
              "    </tr>\n",
              "    <tr>\n",
              "      <th>1</th>\n",
              "      <td>0-9</td>\n",
              "      <td>1</td>\n",
              "      <td>8</td>\n",
              "    </tr>\n",
              "    <tr>\n",
              "      <th>2</th>\n",
              "      <td>10-19</td>\n",
              "      <td>0</td>\n",
              "      <td>4</td>\n",
              "    </tr>\n",
              "    <tr>\n",
              "      <th>3</th>\n",
              "      <td>10-19</td>\n",
              "      <td>1</td>\n",
              "      <td>15</td>\n",
              "    </tr>\n",
              "    <tr>\n",
              "      <th>4</th>\n",
              "      <td>20-29</td>\n",
              "      <td>0</td>\n",
              "      <td>9</td>\n",
              "    </tr>\n",
              "  </tbody>\n",
              "</table>\n",
              "</div>"
            ],
            "text/plain": [
              "  Age_level  Survived  PassengerId\n",
              "0       0-9         0            2\n",
              "1       0-9         1            8\n",
              "2     10-19         0            4\n",
              "3     10-19         1           15\n",
              "4     20-29         0            9"
            ]
          },
          "metadata": {
            "tags": []
          },
          "execution_count": 755
        }
      ]
    },
    {
      "cell_type": "code",
      "metadata": {
        "colab": {
          "base_uri": "https://localhost:8080/",
          "height": 299
        },
        "id": "K3MyYzu9pYkU",
        "outputId": "b4937cb7-2194-422a-dc21-764bd42a6e7e"
      },
      "source": [
        "sns.barplot(x='Age_level', y='PassengerId', hue='Survived', data=df_surv_Age_count) \n",
        "plt.title('Number of survived or dead passengers by age group', fontsize=20)\n",
        "plt.legend(fontsize=12)\n",
        "\n",
        "plt.show()\n"
      ],
      "execution_count": null,
      "outputs": [
        {
          "output_type": "display_data",
          "data": {
            "image/png": "[encoded data removed]",
            "text/plain": [
              "<Figure size 432x288 with 1 Axes>"
            ]
          },
          "metadata": {
            "tags": [],
            "needs_background": "light"
          }
        }
      ]
    },
    {
      "cell_type": "markdown",
      "metadata": {
        "id": "kP8s4Ps13WJx"
      },
      "source": [
        "The graph above shows the number of living and dead by age as a bar plot.\n",
        "\n",
        "If you look at this plot, young people survived more than dead people, but from over 60, more people died than survived people.\n",
        "\n",
        "However, the graph above is difficult to see clearly because the number of people by age group is different. So I used percentage"
      ]
    },
    {
      "cell_type": "markdown",
      "metadata": {
        "id": "lzRqtrNAvDra"
      },
      "source": [
        "**Percentage of survived or dead by age group**"
      ]
    },
    {
      "cell_type": "code",
      "metadata": {
        "id": "5vVeL9gYrzNp"
      },
      "source": [
        "df_surv=train_change_format[train_change_format['Survived']==1]\n",
        "df_dead=train_change_format[train_change_format['Survived']==0]"
      ],
      "execution_count": null,
      "outputs": []
    },
    {
      "cell_type": "code",
      "metadata": {
        "id": "7udGBou1qNfe"
      },
      "source": [
        "df_surv_Age =pd.DataFrame(df_surv.groupby('Age_level')['PassengerId'].count())\n",
        "df_dead_Age =pd.DataFrame(df_dead.groupby('Age_level')['PassengerId'].count())"
      ],
      "execution_count": null,
      "outputs": []
    },
    {
      "cell_type": "code",
      "metadata": {
        "id": "8acOMyPnsWdX"
      },
      "source": [
        "df_surv_Age_perc=np.multiply(np.divide(df_surv_Age, np.add(df_surv_Age, df_dead_Age)),100)\n",
        "df_dead_Age_perc=np.multiply(np.divide(df_dead_Age, np.add(df_surv_Age, df_dead_Age)),100)"
      ],
      "execution_count": null,
      "outputs": []
    },
    {
      "cell_type": "code",
      "metadata": {
        "colab": {
          "base_uri": "https://localhost:8080/",
          "height": 296
        },
        "id": "mjV5b9FZtllv",
        "outputId": "e234ccd1-f9cb-4b92-c2f6-4896edf2f76f"
      },
      "source": [
        "plt.plot(df_surv_Age_perc.index, df_surv_Age_perc.PassengerId)\n",
        "plt.plot(df_surv_Age_perc.index,df_dead_Age_perc.PassengerId)\n",
        "\n",
        "plt.legend(['Survived', 'Dead'])\n",
        "plt.xlabel('Age Group')\n",
        "plt.ylabel('Percentage')\n",
        "plt.title('Percentage of survived or dead by age group')\n",
        "plt.show()"
      ],
      "execution_count": null,
      "outputs": [
        {
          "output_type": "display_data",
          "data": {
            "image/png": "[encoded data removed]",
            "text/plain": [
              "<Figure size 432x288 with 1 Axes>"
            ]
          },
          "metadata": {
            "tags": [],
            "needs_background": "light"
          }
        }
      ]
    },
    {
      "cell_type": "markdown",
      "metadata": {
        "id": "qnUAswa_4dzF"
      },
      "source": [
        "If you look at the graph above, you can see that the percentage of surviving by age group is higher as passenger are younger and lower as passenger are older."
      ]
    },
    {
      "cell_type": "markdown",
      "metadata": {
        "id": "SQ5aHUppmuWT"
      },
      "source": [
        "####3.2.b. Sex"
      ]
    },
    {
      "cell_type": "markdown",
      "metadata": {
        "id": "M47iZDLJm4de"
      },
      "source": [
        "The second feature chosen is **Sex**. The reasons for choosing are as follows:"
      ]
    },
    {
      "cell_type": "markdown",
      "metadata": {
        "id": "BzmNanovm_US"
      },
      "source": [
        "**Number of survived or dead passengers by sex**"
      ]
    },
    {
      "cell_type": "code",
      "metadata": {
        "colab": {
          "base_uri": "https://localhost:8080/",
          "height": 167
        },
        "id": "9AiDBCMPnFzG",
        "outputId": "6acd48b2-834b-4bdd-851a-283936058b79"
      },
      "source": [
        "df_surv_Sex_count =pd.DataFrame(train_change_format.groupby(['Sex', 'Survived'])['PassengerId'].count())\n",
        "df_surv_Sex_count = df_surv_Sex_count.reset_index()\n",
        "\n",
        "df_surv_Sex_count.head()"
      ],
      "execution_count": null,
      "outputs": [
        {
          "output_type": "execute_result",
          "data": {
            "text/html": [
              "<div>\n",
              "<style scoped>\n",
              "    .dataframe tbody tr th:only-of-type {\n",
              "        vertical-align: middle;\n",
              "    }\n",
              "\n",
              "    .dataframe tbody tr th {\n",
              "        vertical-align: top;\n",
              "    }\n",
              "\n",
              "    .dataframe thead th {\n",
              "        text-align: right;\n",
              "    }\n",
              "</style>\n",
              "<table border=\"1\" class=\"dataframe\">\n",
              "  <thead>\n",
              "    <tr style=\"text-align: right;\">\n",
              "      <th></th>\n",
              "      <th>Sex</th>\n",
              "      <th>Survived</th>\n",
              "      <th>PassengerId</th>\n",
              "    </tr>\n",
              "  </thead>\n",
              "  <tbody>\n",
              "    <tr>\n",
              "      <th>0</th>\n",
              "      <td>female</td>\n",
              "      <td>0</td>\n",
              "      <td>6</td>\n",
              "    </tr>\n",
              "    <tr>\n",
              "      <th>1</th>\n",
              "      <td>female</td>\n",
              "      <td>1</td>\n",
              "      <td>82</td>\n",
              "    </tr>\n",
              "    <tr>\n",
              "      <th>2</th>\n",
              "      <td>male</td>\n",
              "      <td>0</td>\n",
              "      <td>54</td>\n",
              "    </tr>\n",
              "    <tr>\n",
              "      <th>3</th>\n",
              "      <td>male</td>\n",
              "      <td>1</td>\n",
              "      <td>41</td>\n",
              "    </tr>\n",
              "  </tbody>\n",
              "</table>\n",
              "</div>"
            ],
            "text/plain": [
              "      Sex  Survived  PassengerId\n",
              "0  female         0            6\n",
              "1  female         1           82\n",
              "2    male         0           54\n",
              "3    male         1           41"
            ]
          },
          "metadata": {
            "tags": []
          },
          "execution_count": 761
        }
      ]
    },
    {
      "cell_type": "code",
      "metadata": {
        "colab": {
          "base_uri": "https://localhost:8080/",
          "height": 299
        },
        "id": "R3dV0cB2nO_y",
        "outputId": "39967390-c31a-47d0-c4f6-1278da8f8520"
      },
      "source": [
        "sns.barplot(x='Sex', y='PassengerId', hue='Survived', data=df_surv_Sex_count) \n",
        "plt.title('Number of survived or dead passengers by sex', fontsize=20)\n",
        "plt.legend(fontsize=12)\n",
        "\n",
        "plt.show()"
      ],
      "execution_count": null,
      "outputs": [
        {
          "output_type": "display_data",
          "data": {
            "image/png": "[encoded data removed]",
            "text/plain": [
              "<Figure size 432x288 with 1 Axes>"
            ]
          },
          "metadata": {
            "tags": [],
            "needs_background": "light"
          }
        }
      ]
    },
    {
      "cell_type": "markdown",
      "metadata": {
        "id": "mBcAApcSnmVV"
      },
      "source": [
        "Looking at the bar plot above, male passengers have a little more dead people than survived ones, but most of the female passengers survived."
      ]
    },
    {
      "cell_type": "markdown",
      "metadata": {
        "id": "MVzBNXG6CbFk"
      },
      "source": [
        "###3.3. Readiness of the Data [5 points]"
      ]
    },
    {
      "cell_type": "markdown",
      "metadata": {
        "id": "UUO2x_MrCn93"
      },
      "source": [
        "Readiness of the data. [5 points] [HINT: for some models, the value range of your features can affect the model a lot. Data normalization may be needed, o.w., one feature with huge values may dominate the modeling effect]"
      ]
    },
    {
      "cell_type": "markdown",
      "metadata": {
        "id": "a6nDieqDnuo8"
      },
      "source": [
        "**Adjusting the scope of the age group**"
      ]
    },
    {
      "cell_type": "markdown",
      "metadata": {
        "id": "QGSOT5FJ6Txr"
      },
      "source": [
        "Although passengers were divided by age group, the number of passengers aged 0-20 and passengers over 50 were very small, so 0-10 and 10-20 were added together and 50-60, 60-70, 70-80 and 80 were combined."
      ]
    },
    {
      "cell_type": "code",
      "metadata": {
        "colab": {
          "base_uri": "https://localhost:8080/",
          "height": 306
        },
        "id": "wGtACQQKges2",
        "outputId": "f955c720-b645-4fea-a377-92b642a0fd12"
      },
      "source": [
        "bins_read = [0, 20, 30, 40, 50, 100]\n",
        "bins_read_label =['0-19', '20-29', '30-39', '40-49', '50~']\n",
        "train_change_format['Age_read_level'] = pd.cut(train_change_format['Age'], bins_read, right=False, labels=bins_read_label)\n",
        "\n",
        "train_change_format.head()"
      ],
      "execution_count": null,
      "outputs": [
        {
          "output_type": "stream",
          "text": [
            "/usr/local/lib/python3.7/dist-packages/ipykernel_launcher.py:3: SettingWithCopyWarning: \n",
            "A value is trying to be set on a copy of a slice from a DataFrame.\n",
            "Try using .loc[row_indexer,col_indexer] = value instead\n",
            "\n",
            "See the caveats in the documentation: https://pandas.pydata.org/pandas-docs/stable/user_guide/indexing.html#returning-a-view-versus-a-copy\n",
            "  This is separate from the ipykernel package so we can avoid doing imports until\n"
          ],
          "name": "stderr"
        },
        {
          "output_type": "execute_result",
          "data": {
            "text/html": [
              "<div>\n",
              "<style scoped>\n",
              "    .dataframe tbody tr th:only-of-type {\n",
              "        vertical-align: middle;\n",
              "    }\n",
              "\n",
              "    .dataframe tbody tr th {\n",
              "        vertical-align: top;\n",
              "    }\n",
              "\n",
              "    .dataframe thead th {\n",
              "        text-align: right;\n",
              "    }\n",
              "</style>\n",
              "<table border=\"1\" class=\"dataframe\">\n",
              "  <thead>\n",
              "    <tr style=\"text-align: right;\">\n",
              "      <th></th>\n",
              "      <th>PassengerId</th>\n",
              "      <th>Survived</th>\n",
              "      <th>Pclass</th>\n",
              "      <th>Name</th>\n",
              "      <th>Sex</th>\n",
              "      <th>Age</th>\n",
              "      <th>SibSp</th>\n",
              "      <th>Parch</th>\n",
              "      <th>Ticket</th>\n",
              "      <th>Fare</th>\n",
              "      <th>Cabin</th>\n",
              "      <th>Embarked</th>\n",
              "      <th>Age_level</th>\n",
              "      <th>Age_read_level</th>\n",
              "    </tr>\n",
              "  </thead>\n",
              "  <tbody>\n",
              "    <tr>\n",
              "      <th>1</th>\n",
              "      <td>2</td>\n",
              "      <td>1</td>\n",
              "      <td>1</td>\n",
              "      <td>Cumings, Mrs. John Bradley (Florence Briggs Th...</td>\n",
              "      <td>female</td>\n",
              "      <td>38</td>\n",
              "      <td>1</td>\n",
              "      <td>0</td>\n",
              "      <td>17599</td>\n",
              "      <td>71.2833</td>\n",
              "      <td>C85</td>\n",
              "      <td>C</td>\n",
              "      <td>30-39</td>\n",
              "      <td>30-39</td>\n",
              "    </tr>\n",
              "    <tr>\n",
              "      <th>3</th>\n",
              "      <td>4</td>\n",
              "      <td>1</td>\n",
              "      <td>1</td>\n",
              "      <td>Futrelle, Mrs. Jacques Heath (Lily May Peel)</td>\n",
              "      <td>female</td>\n",
              "      <td>35</td>\n",
              "      <td>1</td>\n",
              "      <td>0</td>\n",
              "      <td>113803</td>\n",
              "      <td>53.1000</td>\n",
              "      <td>C123</td>\n",
              "      <td>S</td>\n",
              "      <td>30-39</td>\n",
              "      <td>30-39</td>\n",
              "    </tr>\n",
              "    <tr>\n",
              "      <th>6</th>\n",
              "      <td>7</td>\n",
              "      <td>0</td>\n",
              "      <td>1</td>\n",
              "      <td>McCarthy, Mr. Timothy J</td>\n",
              "      <td>male</td>\n",
              "      <td>54</td>\n",
              "      <td>0</td>\n",
              "      <td>0</td>\n",
              "      <td>17463</td>\n",
              "      <td>51.8625</td>\n",
              "      <td>E46</td>\n",
              "      <td>S</td>\n",
              "      <td>50-59</td>\n",
              "      <td>50~</td>\n",
              "    </tr>\n",
              "    <tr>\n",
              "      <th>10</th>\n",
              "      <td>11</td>\n",
              "      <td>1</td>\n",
              "      <td>3</td>\n",
              "      <td>Sandstrom, Miss. Marguerite Rut</td>\n",
              "      <td>female</td>\n",
              "      <td>4</td>\n",
              "      <td>1</td>\n",
              "      <td>1</td>\n",
              "      <td>9549</td>\n",
              "      <td>16.7000</td>\n",
              "      <td>G6</td>\n",
              "      <td>S</td>\n",
              "      <td>0-9</td>\n",
              "      <td>0-19</td>\n",
              "    </tr>\n",
              "    <tr>\n",
              "      <th>11</th>\n",
              "      <td>12</td>\n",
              "      <td>1</td>\n",
              "      <td>1</td>\n",
              "      <td>Bonnell, Miss. Elizabeth</td>\n",
              "      <td>female</td>\n",
              "      <td>58</td>\n",
              "      <td>0</td>\n",
              "      <td>0</td>\n",
              "      <td>113783</td>\n",
              "      <td>26.5500</td>\n",
              "      <td>C103</td>\n",
              "      <td>S</td>\n",
              "      <td>50-59</td>\n",
              "      <td>50~</td>\n",
              "    </tr>\n",
              "  </tbody>\n",
              "</table>\n",
              "</div>"
            ],
            "text/plain": [
              "    PassengerId  Survived  Pclass  ... Embarked Age_level  Age_read_level\n",
              "1             2         1       1  ...        C     30-39           30-39\n",
              "3             4         1       1  ...        S     30-39           30-39\n",
              "6             7         0       1  ...        S     50-59             50~\n",
              "10           11         1       3  ...        S       0-9            0-19\n",
              "11           12         1       1  ...        S     50-59             50~\n",
              "\n",
              "[5 rows x 14 columns]"
            ]
          },
          "metadata": {
            "tags": []
          },
          "execution_count": 763
        }
      ]
    },
    {
      "cell_type": "code",
      "metadata": {
        "colab": {
          "base_uri": "https://localhost:8080/",
          "height": 346
        },
        "id": "SrROqxS-g7ne",
        "outputId": "a0b12100-37bc-4bcb-97e8-4ed8ef1c9c6d"
      },
      "source": [
        "df_surv_Age_read_count =pd.DataFrame(train_change_format.groupby(['Age_read_level', 'Survived'])['PassengerId'].count())\n",
        "df_surv_Age_read_count = df_surv_Age_read_count.reset_index()\n",
        "\n",
        "df_surv_Age_read_count"
      ],
      "execution_count": null,
      "outputs": [
        {
          "output_type": "execute_result",
          "data": {
            "text/html": [
              "<div>\n",
              "<style scoped>\n",
              "    .dataframe tbody tr th:only-of-type {\n",
              "        vertical-align: middle;\n",
              "    }\n",
              "\n",
              "    .dataframe tbody tr th {\n",
              "        vertical-align: top;\n",
              "    }\n",
              "\n",
              "    .dataframe thead th {\n",
              "        text-align: right;\n",
              "    }\n",
              "</style>\n",
              "<table border=\"1\" class=\"dataframe\">\n",
              "  <thead>\n",
              "    <tr style=\"text-align: right;\">\n",
              "      <th></th>\n",
              "      <th>Age_read_level</th>\n",
              "      <th>Survived</th>\n",
              "      <th>PassengerId</th>\n",
              "    </tr>\n",
              "  </thead>\n",
              "  <tbody>\n",
              "    <tr>\n",
              "      <th>0</th>\n",
              "      <td>0-19</td>\n",
              "      <td>0</td>\n",
              "      <td>6</td>\n",
              "    </tr>\n",
              "    <tr>\n",
              "      <th>1</th>\n",
              "      <td>0-19</td>\n",
              "      <td>1</td>\n",
              "      <td>23</td>\n",
              "    </tr>\n",
              "    <tr>\n",
              "      <th>2</th>\n",
              "      <td>20-29</td>\n",
              "      <td>0</td>\n",
              "      <td>9</td>\n",
              "    </tr>\n",
              "    <tr>\n",
              "      <th>3</th>\n",
              "      <td>20-29</td>\n",
              "      <td>1</td>\n",
              "      <td>27</td>\n",
              "    </tr>\n",
              "    <tr>\n",
              "      <th>4</th>\n",
              "      <td>30-39</td>\n",
              "      <td>0</td>\n",
              "      <td>12</td>\n",
              "    </tr>\n",
              "    <tr>\n",
              "      <th>5</th>\n",
              "      <td>30-39</td>\n",
              "      <td>1</td>\n",
              "      <td>37</td>\n",
              "    </tr>\n",
              "    <tr>\n",
              "      <th>6</th>\n",
              "      <td>40-49</td>\n",
              "      <td>0</td>\n",
              "      <td>14</td>\n",
              "    </tr>\n",
              "    <tr>\n",
              "      <th>7</th>\n",
              "      <td>40-49</td>\n",
              "      <td>1</td>\n",
              "      <td>19</td>\n",
              "    </tr>\n",
              "    <tr>\n",
              "      <th>8</th>\n",
              "      <td>50~</td>\n",
              "      <td>0</td>\n",
              "      <td>19</td>\n",
              "    </tr>\n",
              "    <tr>\n",
              "      <th>9</th>\n",
              "      <td>50~</td>\n",
              "      <td>1</td>\n",
              "      <td>17</td>\n",
              "    </tr>\n",
              "  </tbody>\n",
              "</table>\n",
              "</div>"
            ],
            "text/plain": [
              "  Age_read_level  Survived  PassengerId\n",
              "0           0-19         0            6\n",
              "1           0-19         1           23\n",
              "2          20-29         0            9\n",
              "3          20-29         1           27\n",
              "4          30-39         0           12\n",
              "5          30-39         1           37\n",
              "6          40-49         0           14\n",
              "7          40-49         1           19\n",
              "8            50~         0           19\n",
              "9            50~         1           17"
            ]
          },
          "metadata": {
            "tags": []
          },
          "execution_count": 764
        }
      ]
    },
    {
      "cell_type": "code",
      "metadata": {
        "colab": {
          "base_uri": "https://localhost:8080/",
          "height": 299
        },
        "id": "8ApVVsyZhPsh",
        "outputId": "363e241a-aba7-4391-811f-e1a50d6ca2b0"
      },
      "source": [
        "sns.barplot(x='Age_read_level', y='PassengerId', hue='Survived', data=df_surv_Age_read_count) \n",
        "plt.title('Dodged Bar Chart by Seaborn', fontsize=20)\n",
        "plt.legend(fontsize=12)\n",
        "\n",
        "plt.show()"
      ],
      "execution_count": null,
      "outputs": [
        {
          "output_type": "display_data",
          "data": {
            "image/png": "[encoded data removed]",
            "text/plain": [
              "<Figure size 432x288 with 1 Axes>"
            ]
          },
          "metadata": {
            "tags": [],
            "needs_background": "light"
          }
        }
      ]
    },
    {
      "cell_type": "code",
      "metadata": {
        "colab": {
          "base_uri": "https://localhost:8080/",
          "height": 197
        },
        "id": "LzjjeZjBv3pK",
        "outputId": "cf9b71da-1dae-48c3-bd56-dd28187d67b5"
      },
      "source": [
        "test['Age_read_level'] = pd.cut(test['Age'], bins_read, right=False, labels=bins_read_label)\n",
        "\n",
        "test.head()"
      ],
      "execution_count": null,
      "outputs": [
        {
          "output_type": "execute_result",
          "data": {
            "text/html": [
              "<div>\n",
              "<style scoped>\n",
              "    .dataframe tbody tr th:only-of-type {\n",
              "        vertical-align: middle;\n",
              "    }\n",
              "\n",
              "    .dataframe tbody tr th {\n",
              "        vertical-align: top;\n",
              "    }\n",
              "\n",
              "    .dataframe thead th {\n",
              "        text-align: right;\n",
              "    }\n",
              "</style>\n",
              "<table border=\"1\" class=\"dataframe\">\n",
              "  <thead>\n",
              "    <tr style=\"text-align: right;\">\n",
              "      <th></th>\n",
              "      <th>PassengerId</th>\n",
              "      <th>Pclass</th>\n",
              "      <th>Name</th>\n",
              "      <th>Sex</th>\n",
              "      <th>Age</th>\n",
              "      <th>SibSp</th>\n",
              "      <th>Parch</th>\n",
              "      <th>Ticket</th>\n",
              "      <th>Fare</th>\n",
              "      <th>Cabin</th>\n",
              "      <th>Embarked</th>\n",
              "      <th>Age_level</th>\n",
              "      <th>Age_read_level</th>\n",
              "    </tr>\n",
              "  </thead>\n",
              "  <tbody>\n",
              "    <tr>\n",
              "      <th>0</th>\n",
              "      <td>892</td>\n",
              "      <td>3</td>\n",
              "      <td>Kelly, Mr. James</td>\n",
              "      <td>male</td>\n",
              "      <td>34</td>\n",
              "      <td>0</td>\n",
              "      <td>0</td>\n",
              "      <td>330911</td>\n",
              "      <td>7.8292</td>\n",
              "      <td>NaN</td>\n",
              "      <td>Q</td>\n",
              "      <td>30-39</td>\n",
              "      <td>30-39</td>\n",
              "    </tr>\n",
              "    <tr>\n",
              "      <th>1</th>\n",
              "      <td>893</td>\n",
              "      <td>3</td>\n",
              "      <td>Wilkes, Mrs. James (Ellen Needs)</td>\n",
              "      <td>female</td>\n",
              "      <td>47</td>\n",
              "      <td>1</td>\n",
              "      <td>0</td>\n",
              "      <td>363272</td>\n",
              "      <td>7.0000</td>\n",
              "      <td>NaN</td>\n",
              "      <td>S</td>\n",
              "      <td>40-49</td>\n",
              "      <td>40-49</td>\n",
              "    </tr>\n",
              "    <tr>\n",
              "      <th>2</th>\n",
              "      <td>894</td>\n",
              "      <td>2</td>\n",
              "      <td>Myles, Mr. Thomas Francis</td>\n",
              "      <td>male</td>\n",
              "      <td>62</td>\n",
              "      <td>0</td>\n",
              "      <td>0</td>\n",
              "      <td>240276</td>\n",
              "      <td>9.6875</td>\n",
              "      <td>NaN</td>\n",
              "      <td>Q</td>\n",
              "      <td>60-69</td>\n",
              "      <td>50~</td>\n",
              "    </tr>\n",
              "    <tr>\n",
              "      <th>3</th>\n",
              "      <td>895</td>\n",
              "      <td>3</td>\n",
              "      <td>Wirz, Mr. Albert</td>\n",
              "      <td>male</td>\n",
              "      <td>27</td>\n",
              "      <td>0</td>\n",
              "      <td>0</td>\n",
              "      <td>315154</td>\n",
              "      <td>8.6625</td>\n",
              "      <td>NaN</td>\n",
              "      <td>S</td>\n",
              "      <td>20-29</td>\n",
              "      <td>20-29</td>\n",
              "    </tr>\n",
              "    <tr>\n",
              "      <th>4</th>\n",
              "      <td>896</td>\n",
              "      <td>3</td>\n",
              "      <td>Hirvonen, Mrs. Alexander (Helga E Lindqvist)</td>\n",
              "      <td>female</td>\n",
              "      <td>22</td>\n",
              "      <td>1</td>\n",
              "      <td>1</td>\n",
              "      <td>3101298</td>\n",
              "      <td>12.2875</td>\n",
              "      <td>NaN</td>\n",
              "      <td>S</td>\n",
              "      <td>20-29</td>\n",
              "      <td>20-29</td>\n",
              "    </tr>\n",
              "  </tbody>\n",
              "</table>\n",
              "</div>"
            ],
            "text/plain": [
              "   PassengerId  Pclass  ... Age_level Age_read_level\n",
              "0          892       3  ...     30-39          30-39\n",
              "1          893       3  ...     40-49          40-49\n",
              "2          894       2  ...     60-69            50~\n",
              "3          895       3  ...     20-29          20-29\n",
              "4          896       3  ...     20-29          20-29\n",
              "\n",
              "[5 rows x 13 columns]"
            ]
          },
          "metadata": {
            "tags": []
          },
          "execution_count": 766
        }
      ]
    },
    {
      "cell_type": "markdown",
      "metadata": {
        "id": "k8GzOyLbpIXZ"
      },
      "source": [
        "**Replace String with numeric value**"
      ]
    },
    {
      "cell_type": "markdown",
      "metadata": {
        "id": "tX0I558zpWDs"
      },
      "source": [
        "String values ​​cannot be trained, so the selected feature is replaced with a numeric value."
      ]
    },
    {
      "cell_type": "code",
      "metadata": {
        "colab": {
          "base_uri": "https://localhost:8080/",
          "height": 414
        },
        "id": "HKFUK_5ArvsO",
        "outputId": "4f12fbae-be45-490e-88ae-b25e46a3962e"
      },
      "source": [
        "train_change_format['Age_Group']= train_change_format['Age_read_level'].replace({'0-19':0, '20-29':20, '30-39':30, '40-49':40, '50~':50})\n",
        "train_change_format['Sex_num']= train_change_format['Sex'].replace({'female':0, 'male':1})\n",
        "\n",
        "train_change_format.head()"
      ],
      "execution_count": null,
      "outputs": [
        {
          "output_type": "stream",
          "text": [
            "/usr/local/lib/python3.7/dist-packages/ipykernel_launcher.py:1: SettingWithCopyWarning: \n",
            "A value is trying to be set on a copy of a slice from a DataFrame.\n",
            "Try using .loc[row_indexer,col_indexer] = value instead\n",
            "\n",
            "See the caveats in the documentation: https://pandas.pydata.org/pandas-docs/stable/user_guide/indexing.html#returning-a-view-versus-a-copy\n",
            "  \"\"\"Entry point for launching an IPython kernel.\n",
            "/usr/local/lib/python3.7/dist-packages/ipykernel_launcher.py:2: SettingWithCopyWarning: \n",
            "A value is trying to be set on a copy of a slice from a DataFrame.\n",
            "Try using .loc[row_indexer,col_indexer] = value instead\n",
            "\n",
            "See the caveats in the documentation: https://pandas.pydata.org/pandas-docs/stable/user_guide/indexing.html#returning-a-view-versus-a-copy\n",
            "  \n"
          ],
          "name": "stderr"
        },
        {
          "output_type": "execute_result",
          "data": {
            "text/html": [
              "<div>\n",
              "<style scoped>\n",
              "    .dataframe tbody tr th:only-of-type {\n",
              "        vertical-align: middle;\n",
              "    }\n",
              "\n",
              "    .dataframe tbody tr th {\n",
              "        vertical-align: top;\n",
              "    }\n",
              "\n",
              "    .dataframe thead th {\n",
              "        text-align: right;\n",
              "    }\n",
              "</style>\n",
              "<table border=\"1\" class=\"dataframe\">\n",
              "  <thead>\n",
              "    <tr style=\"text-align: right;\">\n",
              "      <th></th>\n",
              "      <th>PassengerId</th>\n",
              "      <th>Survived</th>\n",
              "      <th>Pclass</th>\n",
              "      <th>Name</th>\n",
              "      <th>Sex</th>\n",
              "      <th>Age</th>\n",
              "      <th>SibSp</th>\n",
              "      <th>Parch</th>\n",
              "      <th>Ticket</th>\n",
              "      <th>Fare</th>\n",
              "      <th>Cabin</th>\n",
              "      <th>Embarked</th>\n",
              "      <th>Age_level</th>\n",
              "      <th>Age_read_level</th>\n",
              "      <th>Age_Group</th>\n",
              "      <th>Sex_num</th>\n",
              "    </tr>\n",
              "  </thead>\n",
              "  <tbody>\n",
              "    <tr>\n",
              "      <th>1</th>\n",
              "      <td>2</td>\n",
              "      <td>1</td>\n",
              "      <td>1</td>\n",
              "      <td>Cumings, Mrs. John Bradley (Florence Briggs Th...</td>\n",
              "      <td>female</td>\n",
              "      <td>38</td>\n",
              "      <td>1</td>\n",
              "      <td>0</td>\n",
              "      <td>17599</td>\n",
              "      <td>71.2833</td>\n",
              "      <td>C85</td>\n",
              "      <td>C</td>\n",
              "      <td>30-39</td>\n",
              "      <td>30-39</td>\n",
              "      <td>30</td>\n",
              "      <td>0</td>\n",
              "    </tr>\n",
              "    <tr>\n",
              "      <th>3</th>\n",
              "      <td>4</td>\n",
              "      <td>1</td>\n",
              "      <td>1</td>\n",
              "      <td>Futrelle, Mrs. Jacques Heath (Lily May Peel)</td>\n",
              "      <td>female</td>\n",
              "      <td>35</td>\n",
              "      <td>1</td>\n",
              "      <td>0</td>\n",
              "      <td>113803</td>\n",
              "      <td>53.1000</td>\n",
              "      <td>C123</td>\n",
              "      <td>S</td>\n",
              "      <td>30-39</td>\n",
              "      <td>30-39</td>\n",
              "      <td>30</td>\n",
              "      <td>0</td>\n",
              "    </tr>\n",
              "    <tr>\n",
              "      <th>6</th>\n",
              "      <td>7</td>\n",
              "      <td>0</td>\n",
              "      <td>1</td>\n",
              "      <td>McCarthy, Mr. Timothy J</td>\n",
              "      <td>male</td>\n",
              "      <td>54</td>\n",
              "      <td>0</td>\n",
              "      <td>0</td>\n",
              "      <td>17463</td>\n",
              "      <td>51.8625</td>\n",
              "      <td>E46</td>\n",
              "      <td>S</td>\n",
              "      <td>50-59</td>\n",
              "      <td>50~</td>\n",
              "      <td>50</td>\n",
              "      <td>1</td>\n",
              "    </tr>\n",
              "    <tr>\n",
              "      <th>10</th>\n",
              "      <td>11</td>\n",
              "      <td>1</td>\n",
              "      <td>3</td>\n",
              "      <td>Sandstrom, Miss. Marguerite Rut</td>\n",
              "      <td>female</td>\n",
              "      <td>4</td>\n",
              "      <td>1</td>\n",
              "      <td>1</td>\n",
              "      <td>9549</td>\n",
              "      <td>16.7000</td>\n",
              "      <td>G6</td>\n",
              "      <td>S</td>\n",
              "      <td>0-9</td>\n",
              "      <td>0-19</td>\n",
              "      <td>0</td>\n",
              "      <td>0</td>\n",
              "    </tr>\n",
              "    <tr>\n",
              "      <th>11</th>\n",
              "      <td>12</td>\n",
              "      <td>1</td>\n",
              "      <td>1</td>\n",
              "      <td>Bonnell, Miss. Elizabeth</td>\n",
              "      <td>female</td>\n",
              "      <td>58</td>\n",
              "      <td>0</td>\n",
              "      <td>0</td>\n",
              "      <td>113783</td>\n",
              "      <td>26.5500</td>\n",
              "      <td>C103</td>\n",
              "      <td>S</td>\n",
              "      <td>50-59</td>\n",
              "      <td>50~</td>\n",
              "      <td>50</td>\n",
              "      <td>0</td>\n",
              "    </tr>\n",
              "  </tbody>\n",
              "</table>\n",
              "</div>"
            ],
            "text/plain": [
              "    PassengerId  Survived  Pclass  ... Age_read_level Age_Group  Sex_num\n",
              "1             2         1       1  ...          30-39        30        0\n",
              "3             4         1       1  ...          30-39        30        0\n",
              "6             7         0       1  ...            50~        50        1\n",
              "10           11         1       3  ...           0-19         0        0\n",
              "11           12         1       1  ...            50~        50        0\n",
              "\n",
              "[5 rows x 16 columns]"
            ]
          },
          "metadata": {
            "tags": []
          },
          "execution_count": 767
        }
      ]
    },
    {
      "cell_type": "code",
      "metadata": {
        "colab": {
          "base_uri": "https://localhost:8080/",
          "height": 197
        },
        "id": "qAX8J3WdwHVK",
        "outputId": "26826598-9e46-4ffd-dd86-bdf9f365de46"
      },
      "source": [
        "test['Age_Group']= test['Age_read_level'].replace({'0-19':0, '20-29':20, '30-39':30, '40-49':40, '50~':50})\n",
        "test['Sex_num']= test['Sex'].replace({'female':0, 'male':1})\n",
        "test.head()"
      ],
      "execution_count": null,
      "outputs": [
        {
          "output_type": "execute_result",
          "data": {
            "text/html": [
              "<div>\n",
              "<style scoped>\n",
              "    .dataframe tbody tr th:only-of-type {\n",
              "        vertical-align: middle;\n",
              "    }\n",
              "\n",
              "    .dataframe tbody tr th {\n",
              "        vertical-align: top;\n",
              "    }\n",
              "\n",
              "    .dataframe thead th {\n",
              "        text-align: right;\n",
              "    }\n",
              "</style>\n",
              "<table border=\"1\" class=\"dataframe\">\n",
              "  <thead>\n",
              "    <tr style=\"text-align: right;\">\n",
              "      <th></th>\n",
              "      <th>PassengerId</th>\n",
              "      <th>Pclass</th>\n",
              "      <th>Name</th>\n",
              "      <th>Sex</th>\n",
              "      <th>Age</th>\n",
              "      <th>SibSp</th>\n",
              "      <th>Parch</th>\n",
              "      <th>Ticket</th>\n",
              "      <th>Fare</th>\n",
              "      <th>Cabin</th>\n",
              "      <th>Embarked</th>\n",
              "      <th>Age_level</th>\n",
              "      <th>Age_read_level</th>\n",
              "      <th>Age_Group</th>\n",
              "      <th>Sex_num</th>\n",
              "    </tr>\n",
              "  </thead>\n",
              "  <tbody>\n",
              "    <tr>\n",
              "      <th>0</th>\n",
              "      <td>892</td>\n",
              "      <td>3</td>\n",
              "      <td>Kelly, Mr. James</td>\n",
              "      <td>male</td>\n",
              "      <td>34</td>\n",
              "      <td>0</td>\n",
              "      <td>0</td>\n",
              "      <td>330911</td>\n",
              "      <td>7.8292</td>\n",
              "      <td>NaN</td>\n",
              "      <td>Q</td>\n",
              "      <td>30-39</td>\n",
              "      <td>30-39</td>\n",
              "      <td>30</td>\n",
              "      <td>1</td>\n",
              "    </tr>\n",
              "    <tr>\n",
              "      <th>1</th>\n",
              "      <td>893</td>\n",
              "      <td>3</td>\n",
              "      <td>Wilkes, Mrs. James (Ellen Needs)</td>\n",
              "      <td>female</td>\n",
              "      <td>47</td>\n",
              "      <td>1</td>\n",
              "      <td>0</td>\n",
              "      <td>363272</td>\n",
              "      <td>7.0000</td>\n",
              "      <td>NaN</td>\n",
              "      <td>S</td>\n",
              "      <td>40-49</td>\n",
              "      <td>40-49</td>\n",
              "      <td>40</td>\n",
              "      <td>0</td>\n",
              "    </tr>\n",
              "    <tr>\n",
              "      <th>2</th>\n",
              "      <td>894</td>\n",
              "      <td>2</td>\n",
              "      <td>Myles, Mr. Thomas Francis</td>\n",
              "      <td>male</td>\n",
              "      <td>62</td>\n",
              "      <td>0</td>\n",
              "      <td>0</td>\n",
              "      <td>240276</td>\n",
              "      <td>9.6875</td>\n",
              "      <td>NaN</td>\n",
              "      <td>Q</td>\n",
              "      <td>60-69</td>\n",
              "      <td>50~</td>\n",
              "      <td>50</td>\n",
              "      <td>1</td>\n",
              "    </tr>\n",
              "    <tr>\n",
              "      <th>3</th>\n",
              "      <td>895</td>\n",
              "      <td>3</td>\n",
              "      <td>Wirz, Mr. Albert</td>\n",
              "      <td>male</td>\n",
              "      <td>27</td>\n",
              "      <td>0</td>\n",
              "      <td>0</td>\n",
              "      <td>315154</td>\n",
              "      <td>8.6625</td>\n",
              "      <td>NaN</td>\n",
              "      <td>S</td>\n",
              "      <td>20-29</td>\n",
              "      <td>20-29</td>\n",
              "      <td>20</td>\n",
              "      <td>1</td>\n",
              "    </tr>\n",
              "    <tr>\n",
              "      <th>4</th>\n",
              "      <td>896</td>\n",
              "      <td>3</td>\n",
              "      <td>Hirvonen, Mrs. Alexander (Helga E Lindqvist)</td>\n",
              "      <td>female</td>\n",
              "      <td>22</td>\n",
              "      <td>1</td>\n",
              "      <td>1</td>\n",
              "      <td>3101298</td>\n",
              "      <td>12.2875</td>\n",
              "      <td>NaN</td>\n",
              "      <td>S</td>\n",
              "      <td>20-29</td>\n",
              "      <td>20-29</td>\n",
              "      <td>20</td>\n",
              "      <td>0</td>\n",
              "    </tr>\n",
              "  </tbody>\n",
              "</table>\n",
              "</div>"
            ],
            "text/plain": [
              "   PassengerId  Pclass  ... Age_Group Sex_num\n",
              "0          892       3  ...        30       1\n",
              "1          893       3  ...        40       0\n",
              "2          894       2  ...        50       1\n",
              "3          895       3  ...        20       1\n",
              "4          896       3  ...        20       0\n",
              "\n",
              "[5 rows x 15 columns]"
            ]
          },
          "metadata": {
            "tags": []
          },
          "execution_count": 768
        }
      ]
    },
    {
      "cell_type": "markdown",
      "metadata": {
        "id": "Om2TjWqbp7jM"
      },
      "source": [
        "**Feature extraction**"
      ]
    },
    {
      "cell_type": "markdown",
      "metadata": {
        "id": "s0Td3RYIqPsk"
      },
      "source": [
        "Extracts only features to be used for train and test and converts them into dataframe."
      ]
    },
    {
      "cell_type": "code",
      "metadata": {
        "colab": {
          "base_uri": "https://localhost:8080/",
          "height": 197
        },
        "id": "Pe645-npqThB",
        "outputId": "d36d3b91-d044-44c7-887b-4cb8a20162c9"
      },
      "source": [
        "train= train_change_format.loc[:,['Survived', 'Age_Group', 'Sex_num']]\n",
        "\n",
        "train.head()"
      ],
      "execution_count": null,
      "outputs": [
        {
          "output_type": "execute_result",
          "data": {
            "text/html": [
              "<div>\n",
              "<style scoped>\n",
              "    .dataframe tbody tr th:only-of-type {\n",
              "        vertical-align: middle;\n",
              "    }\n",
              "\n",
              "    .dataframe tbody tr th {\n",
              "        vertical-align: top;\n",
              "    }\n",
              "\n",
              "    .dataframe thead th {\n",
              "        text-align: right;\n",
              "    }\n",
              "</style>\n",
              "<table border=\"1\" class=\"dataframe\">\n",
              "  <thead>\n",
              "    <tr style=\"text-align: right;\">\n",
              "      <th></th>\n",
              "      <th>Survived</th>\n",
              "      <th>Age_Group</th>\n",
              "      <th>Sex_num</th>\n",
              "    </tr>\n",
              "  </thead>\n",
              "  <tbody>\n",
              "    <tr>\n",
              "      <th>1</th>\n",
              "      <td>1</td>\n",
              "      <td>30</td>\n",
              "      <td>0</td>\n",
              "    </tr>\n",
              "    <tr>\n",
              "      <th>3</th>\n",
              "      <td>1</td>\n",
              "      <td>30</td>\n",
              "      <td>0</td>\n",
              "    </tr>\n",
              "    <tr>\n",
              "      <th>6</th>\n",
              "      <td>0</td>\n",
              "      <td>50</td>\n",
              "      <td>1</td>\n",
              "    </tr>\n",
              "    <tr>\n",
              "      <th>10</th>\n",
              "      <td>1</td>\n",
              "      <td>0</td>\n",
              "      <td>0</td>\n",
              "    </tr>\n",
              "    <tr>\n",
              "      <th>11</th>\n",
              "      <td>1</td>\n",
              "      <td>50</td>\n",
              "      <td>0</td>\n",
              "    </tr>\n",
              "  </tbody>\n",
              "</table>\n",
              "</div>"
            ],
            "text/plain": [
              "    Survived  Age_Group  Sex_num\n",
              "1          1         30        0\n",
              "3          1         30        0\n",
              "6          0         50        1\n",
              "10         1          0        0\n",
              "11         1         50        0"
            ]
          },
          "metadata": {
            "tags": []
          },
          "execution_count": 769
        }
      ]
    },
    {
      "cell_type": "code",
      "metadata": {
        "colab": {
          "base_uri": "https://localhost:8080/",
          "height": 197
        },
        "id": "HpXRCmhywOrh",
        "outputId": "df7c77fd-e10a-4024-a94b-97058e113dfb"
      },
      "source": [
        "test= test.loc[:,['Age_Group', 'Sex_num']]\n",
        "\n",
        "test.head()"
      ],
      "execution_count": null,
      "outputs": [
        {
          "output_type": "execute_result",
          "data": {
            "text/html": [
              "<div>\n",
              "<style scoped>\n",
              "    .dataframe tbody tr th:only-of-type {\n",
              "        vertical-align: middle;\n",
              "    }\n",
              "\n",
              "    .dataframe tbody tr th {\n",
              "        vertical-align: top;\n",
              "    }\n",
              "\n",
              "    .dataframe thead th {\n",
              "        text-align: right;\n",
              "    }\n",
              "</style>\n",
              "<table border=\"1\" class=\"dataframe\">\n",
              "  <thead>\n",
              "    <tr style=\"text-align: right;\">\n",
              "      <th></th>\n",
              "      <th>Age_Group</th>\n",
              "      <th>Sex_num</th>\n",
              "    </tr>\n",
              "  </thead>\n",
              "  <tbody>\n",
              "    <tr>\n",
              "      <th>0</th>\n",
              "      <td>30</td>\n",
              "      <td>1</td>\n",
              "    </tr>\n",
              "    <tr>\n",
              "      <th>1</th>\n",
              "      <td>40</td>\n",
              "      <td>0</td>\n",
              "    </tr>\n",
              "    <tr>\n",
              "      <th>2</th>\n",
              "      <td>50</td>\n",
              "      <td>1</td>\n",
              "    </tr>\n",
              "    <tr>\n",
              "      <th>3</th>\n",
              "      <td>20</td>\n",
              "      <td>1</td>\n",
              "    </tr>\n",
              "    <tr>\n",
              "      <th>4</th>\n",
              "      <td>20</td>\n",
              "      <td>0</td>\n",
              "    </tr>\n",
              "  </tbody>\n",
              "</table>\n",
              "</div>"
            ],
            "text/plain": [
              "   Age_Group  Sex_num\n",
              "0         30        1\n",
              "1         40        0\n",
              "2         50        1\n",
              "3         20        1\n",
              "4         20        0"
            ]
          },
          "metadata": {
            "tags": []
          },
          "execution_count": 770
        }
      ]
    },
    {
      "cell_type": "markdown",
      "metadata": {
        "id": "m8IV7KnRBDKO"
      },
      "source": [
        "##Part4. Modeling"
      ]
    },
    {
      "cell_type": "markdown",
      "metadata": {
        "id": "A7lus0k_CxQc"
      },
      "source": [
        "###4.1. Select Model [5 points]"
      ]
    },
    {
      "cell_type": "markdown",
      "metadata": {
        "id": "rfJ2xJrdDGK9"
      },
      "source": [
        "Describe the chosen model and why choose this one. [5 points]"
      ]
    },
    {
      "cell_type": "markdown",
      "metadata": {
        "id": "S5kNe88PphP-"
      },
      "source": [
        "**Logestic Regression**\n",
        "\n",
        "I choose logistic regression model. \n",
        "\n",
        "Because the predicted outcome of this titanic project is one of survived ($1$) or died ($0$), I chose the binary classification technique, logestic regression."
      ]
    },
    {
      "cell_type": "markdown",
      "metadata": {
        "id": "Tb3H8NMKDKKX"
      },
      "source": [
        "###4.2. Relationship between Model and Feature [5 points]"
      ]
    },
    {
      "cell_type": "markdown",
      "metadata": {
        "id": "ZXU1AJ52Dchk"
      },
      "source": [
        "Describe how the chosen features in 3.2 is involved in the chosen model. [5 points]"
      ]
    },
    {
      "cell_type": "markdown",
      "metadata": {
        "id": "xv47KfcSwSRQ"
      },
      "source": [
        "The regression equation for calculating the predicted value is as follow:\n",
        "\n",
        "$$\\Large p = \\frac{1}{1 + e^{-(a+bx_1+cx_2)}}$$\n",
        "\n",
        "In 3.2 I picked 2 features, Age Group ans Sex. \n",
        "\n",
        "So, our goal is to predict Survived with Age Group and Sex. Therefore, the relationship between the feature and logestic regression is to predict the Survived ($p$) for a specific Age Group ($x_1$) and Sex ($x_2$) by calculating the values ​​of $a, b, c$, when the age group is $x_1$, Sex is $x_2$, and survived is $p$. "
      ]
    },
    {
      "cell_type": "markdown",
      "metadata": {
        "id": "hPdFIxQVDl6-"
      },
      "source": [
        "###4.2. Loss Function [5 points]"
      ]
    },
    {
      "cell_type": "markdown",
      "metadata": {
        "id": "YDSKLqvBDxYH"
      },
      "source": [
        "Describe the loss function that will be used to estimate the model's parameters. [5 points]"
      ]
    },
    {
      "cell_type": "markdown",
      "metadata": {
        "id": "l_r6Z01AX1FL"
      },
      "source": [
        "**Loss Fuction**:\n",
        "\n",
        "$$L(y, \\hat{y}) = -(y log\\hat{y}+ (1-y)log(1-\\hat{y}))$$\n",
        "\n",
        "When estimating parameters in logistic regression, Maximun Likelihood Estimation is mainly used.\n",
        "\n",
        "**Maximun Likelihood Estimation**\n",
        "\n",
        "MLE is a probabilistic framework for estimating the parameters of a model.\n",
        "\n",
        "$$likeliehood\\ =\\ L\\left(a,b,c \\right)\\ =\\ \\prod _{i=1}^np_i^{y_i}\\left(1-p_i\\right)^{1-y_i}$$\n",
        "\n",
        "$$\\log \\ likelihood\\ =\\ ll\\left(a,b,c \\right)\\ =\\ \\sum _{i=1}^ny_i(a+{x_1}_ib+{x_2}_ic) -\\log \\left(1+e^{(a+{x_1}_ib+{x_2}_ic) }\\right)$$\n",
        "\n"
      ]
    },
    {
      "cell_type": "markdown",
      "metadata": {
        "id": "xkLVr44CD0od"
      },
      "source": [
        "###4.3. Estimating the Parameters of the Model [5 points]"
      ]
    },
    {
      "cell_type": "markdown",
      "metadata": {
        "id": "LAFJu4A_EIe6"
      },
      "source": [
        "Use a specific way (different ways have been discussed in A3) to estimate the model's parameters. [5 points]"
      ]
    },
    {
      "cell_type": "markdown",
      "metadata": {
        "id": "jnGE-mVQ7_3A"
      },
      "source": [
        "The method of estimating the parameter of logistic regression that I found is to estimate the parameter that gives the highest probability of likelihood with the original $y$ value and predicted probability $\\hat{y}$. The following is a function to find liklihood."
      ]
    },
    {
      "cell_type": "code",
      "metadata": {
        "id": "6sgkfkgX5_bZ"
      },
      "source": [
        "def likelihood(y, y_hat):\n",
        "\treturn np.add(np.multiply(y_hat, y), np.multiply(np.subtract(1, y_hat), np.subtract(1, y)))"
      ],
      "execution_count": null,
      "outputs": []
    },
    {
      "cell_type": "code",
      "metadata": {
        "colab": {
          "base_uri": "https://localhost:8080/"
        },
        "id": "082UwER-7uIK",
        "outputId": "ee13face-01d7-4ba3-dc7d-1f8960efb943"
      },
      "source": [
        "y, y_hat = 1, 0.9\n",
        "print(likelihood(y, y_hat))"
      ],
      "execution_count": null,
      "outputs": [
        {
          "output_type": "stream",
          "text": [
            "0.9\n"
          ],
          "name": "stdout"
        }
      ]
    },
    {
      "cell_type": "markdown",
      "metadata": {
        "id": "hJXhNPHN9juF"
      },
      "source": [
        "The parameter of $\\hat{y}$ that brings the largest value among the likelihoods obtained by this function is the optimal value."
      ]
    },
    {
      "cell_type": "markdown",
      "metadata": {
        "id": "Pz7ydrC3ELZG"
      },
      "source": [
        "### 4.4. Model Prediction [5 points]"
      ]
    },
    {
      "cell_type": "markdown",
      "metadata": {
        "id": "hRw-m6Q_Egtl"
      },
      "source": [
        "Use the model estimated to conduct a submission to the Kaggle competition and screenshot your leaderboard position. [5 points] "
      ]
    },
    {
      "cell_type": "markdown",
      "metadata": {
        "id": "MYIAqkLltJIx"
      },
      "source": [
        "This is the screenshot my leader board position.\n",
        "\n",
        "![LogisticRegression.png](data:image/png;base64,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)\n",
        "\n",
        "And the model prediction is as follows."
      ]
    },
    {
      "cell_type": "markdown",
      "metadata": {
        "id": "ZYGm7BbQrim6"
      },
      "source": [
        "To measure the accuracy, I train-test-split the train data and predict it."
      ]
    },
    {
      "cell_type": "code",
      "metadata": {
        "colab": {
          "base_uri": "https://localhost:8080/"
        },
        "id": "TLxqRYZqpt4K",
        "outputId": "f0a6039d-6b69-4e88-ffd7-2da389156627"
      },
      "source": [
        "from sklearn.model_selection import train_test_split \n",
        "train_sample, test_sample = train_test_split(sample, test_size=0.25, random_state=100)\n",
        "x_train_sample = train_sample.drop('Survived', axis=1).values\n",
        "y_train_sample = train_sample['Survived'].values\n",
        "x_test_sample = test_sample.drop('Survived', axis=1).values\n",
        "y_test_sample= test_sample['Survived'].values\n",
        "\n",
        "print(\"Training Data Size: \", len(train_sample))\n",
        "print(\"Test Data Size: \", len(test_sample))"
      ],
      "execution_count": null,
      "outputs": [
        {
          "output_type": "stream",
          "text": [
            "Training Data Size:  137\n",
            "Test Data Size:  46\n"
          ],
          "name": "stdout"
        }
      ]
    },
    {
      "cell_type": "code",
      "metadata": {
        "colab": {
          "base_uri": "https://localhost:8080/"
        },
        "id": "eHhNrFSTb1jL",
        "outputId": "02a811a6-2812-45b9-c39b-1e98093bb478"
      },
      "source": [
        "from sklearn.linear_model import LogisticRegression\n",
        "logistic_model = LogisticRegression(max_iter=1680)\n",
        "logistic_model.fit(x_train_sample, y_train_sample)"
      ],
      "execution_count": null,
      "outputs": [
        {
          "output_type": "execute_result",
          "data": {
            "text/plain": [
              "LogisticRegression(C=1.0, class_weight=None, dual=False, fit_intercept=True,\n",
              "                   intercept_scaling=1, l1_ratio=None, max_iter=1680,\n",
              "                   multi_class='auto', n_jobs=None, penalty='l2',\n",
              "                   random_state=None, solver='lbfgs', tol=0.0001, verbose=0,\n",
              "                   warm_start=False)"
            ]
          },
          "metadata": {
            "tags": []
          },
          "execution_count": 774
        }
      ]
    },
    {
      "cell_type": "code",
      "metadata": {
        "colab": {
          "base_uri": "https://localhost:8080/"
        },
        "id": "DXEQYAU7rMrH",
        "outputId": "882c668b-6277-49b1-9516-d49de9b1e6ea"
      },
      "source": [
        "from sklearn.metrics import accuracy_score\n",
        "y_train_pred = logistic_model.predict(x_train_sample)\n",
        "y_test_pred = logistic_model.predict(x_test_sample)\n",
        "\n",
        "print('Accuracy of training data:')\n",
        "print(accuracy_score(y_train_sample, y_train_pred))\n",
        "print('Accuracy of test data:')\n",
        "print(accuracy_score(y_test_sample, y_test_pred))"
      ],
      "execution_count": null,
      "outputs": [
        {
          "output_type": "stream",
          "text": [
            "Accuracy of training data:\n",
            "0.7956204379562044\n",
            "Accuracy of test data:\n",
            "0.6956521739130435\n"
          ],
          "name": "stdout"
        }
      ]
    },
    {
      "cell_type": "markdown",
      "metadata": {
        "id": "Ype5K4RnrwkT"
      },
      "source": [
        "Then, after training logestic regression with train data, the survivability of the passengers in the test data was predicted."
      ]
    },
    {
      "cell_type": "code",
      "metadata": {
        "colab": {
          "base_uri": "https://localhost:8080/"
        },
        "id": "oDSSqjtouXjy",
        "outputId": "30af1b5b-9bf3-4680-e268-548e2d0f3148"
      },
      "source": [
        "x_train = train.drop('Survived', axis=1).values\n",
        "y_train = train['Survived'].values\n",
        "\n",
        "model = LogisticRegression(max_iter=1680)\n",
        "model.fit(x_train, y_train)\n",
        "\n",
        "y_pred = model.predict(test)\n",
        "\n",
        "y_pred"
      ],
      "execution_count": null,
      "outputs": [
        {
          "output_type": "execute_result",
          "data": {
            "text/plain": [
              "array([0, 1, 0, 1, 1, 1, 1, 1, 1, 1, 0, 0, 1, 0, 1, 1, 0, 1, 1, 1, 0, 1,\n",
              "       1, 1, 1, 0, 1, 1, 0, 0, 0, 1, 1, 1, 0, 1, 1, 1, 1, 0, 0, 0, 0, 1,\n",
              "       1, 1, 0, 0, 1, 1, 1, 1, 1, 1, 0, 1, 0, 1, 0, 1, 1, 0, 1, 1, 1, 1,\n",
              "       1, 0, 0, 1, 1, 1, 1, 1, 1, 0, 0, 1, 0, 1, 1, 0, 0, 0, 0, 0, 1, 1,\n",
              "       1, 1, 1, 0, 1, 0, 1, 1, 1, 1, 1, 0, 1, 1, 0, 1, 1, 1, 1, 0, 0, 1,\n",
              "       0, 1, 1, 1, 1, 1, 0, 1, 0, 1, 1, 0, 1, 1, 0, 1, 1, 1, 0, 1, 0, 0,\n",
              "       1, 0, 0, 1, 1, 1, 1, 0, 1, 1, 0, 1, 0, 0, 0, 1, 0, 0, 1, 0, 0, 1,\n",
              "       1, 1, 1, 1, 0, 1, 1, 1, 1, 0, 0, 1, 0, 1, 1, 1, 0, 1, 1, 0, 0, 1,\n",
              "       1, 0, 1, 1, 0, 0, 1, 0, 1, 0, 1, 1, 1, 0, 0, 0, 1, 0, 1, 0, 1, 1,\n",
              "       1, 1, 1, 1, 0, 1, 1, 0, 1, 1, 1, 1, 0, 0, 1, 1, 1, 0, 1, 0, 1, 0,\n",
              "       1, 1, 1, 1, 1, 1, 1, 1, 0, 0, 1, 1, 1, 0, 0, 1, 0, 1, 1, 1, 1, 1,\n",
              "       0, 0, 0, 0, 1, 0, 1, 1, 1, 1, 1, 1, 0, 0, 0, 1, 1, 1, 0, 1, 1, 1,\n",
              "       0, 0, 0, 0, 1, 1, 0, 0, 1, 1, 0, 1, 1, 0, 0, 1, 1, 1, 1, 1, 1, 0,\n",
              "       0, 1, 0, 0, 0, 1, 0, 0, 0, 1, 1, 0, 0, 1, 0, 0, 0, 1, 1, 1, 0, 1,\n",
              "       0, 1, 1, 1, 0, 1, 1, 1, 0, 1, 1, 1, 1, 1, 1, 0, 1, 1, 1, 0, 1, 1,\n",
              "       1, 0, 0, 1, 1, 0, 0, 0, 1, 0, 1, 0, 0, 1, 0, 1, 1, 1, 1, 1, 1, 1,\n",
              "       1, 0, 1, 0, 1, 0, 0, 1, 1, 1, 1, 1, 1, 1, 0, 1, 1, 1, 1, 1, 0, 0,\n",
              "       1, 1, 1, 1, 0, 1, 0, 1, 1, 1, 0, 1, 1, 0, 1, 1, 1, 1, 1, 0, 1, 1,\n",
              "       1, 1, 1, 0, 1, 0, 1, 1, 0, 1, 1, 0, 1, 1, 1, 1, 1, 0, 1, 0, 0, 0])"
            ]
          },
          "metadata": {
            "tags": []
          },
          "execution_count": 776
        }
      ]
    },
    {
      "cell_type": "markdown",
      "metadata": {
        "id": "Rh0N6CHpsDdi"
      },
      "source": [
        "The predicted results were output to a csv file."
      ]
    },
    {
      "cell_type": "code",
      "metadata": {
        "id": "y7Yh-eDSKlRn"
      },
      "source": [
        "pred_result =pd.DataFrame({\n",
        "    'PassengerId': test_a.PassengerId,\n",
        "    'Survived': y_pred\n",
        "})\n",
        "pred_result.to_csv('titanic_test_Logistic_Regression_predict.csv', index=False) "
      ],
      "execution_count": null,
      "outputs": []
    }
  ]
}